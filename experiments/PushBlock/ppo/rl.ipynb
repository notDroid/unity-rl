{
 "cells": [
  {
   "cell_type": "markdown",
   "metadata": {},
   "source": [
    "# **PushBlockEnv Reinforcement Learning**"
   ]
  },
  {
   "cell_type": "code",
   "execution_count": 1,
   "metadata": {},
   "outputs": [],
   "source": [
    "ENV_PATH = \"../../../envs/PushBlock\""
   ]
  },
  {
   "cell_type": "markdown",
   "metadata": {},
   "source": [
    "### **Imports**"
   ]
  },
  {
   "cell_type": "code",
   "execution_count": 44,
   "metadata": {},
   "outputs": [
    {
     "name": "stdout",
     "output_type": "stream",
     "text": [
      "Using Device: cpu\n"
     ]
    }
   ],
   "source": [
    "### Utility\n",
    "import matplotlib.pyplot as plt\n",
    "import numpy as np\n",
    "import pandas as pd\n",
    "import os\n",
    "\n",
    "### Torch\n",
    "import torch\n",
    "from torch import nn\n",
    "from torch import optim\n",
    "### Torch RL\n",
    "# Env\n",
    "from torchrl.envs.libs import UnityMLAgentsEnv\n",
    "from mlagents_envs.side_channel.engine_configuration_channel import EngineConfigurationChannel\n",
    "from torchrl.envs.utils import step_mdp, check_env_specs\n",
    "from torchrl.envs import TransformedEnv, Stack, ExcludeTransform, CatTensors, AutoResetTransform\n",
    "\n",
    "# Data Collection\n",
    "from torchrl.collectors import SyncDataCollector, MultiSyncDataCollector\n",
    "from torchrl.data import LazyTensorStorage, ReplayBuffer\n",
    "from torchrl.data.replay_buffers.samplers import SamplerWithoutReplacement\n",
    "\n",
    "\n",
    "# Model\n",
    "from model import create_policy, create_value\n",
    "# Train Util\n",
    "from train_util import make_loss_module, compute_trajectory_metrics, loss_dict, Stopwatch, Logger, Checkpointer, compute_single_trajectory_metrics, load_model\n",
    "# Inspect Results\n",
    "from result import plot, play, test\n",
    "\n",
    "device = torch.device(\"cuda\" if torch.cuda.is_available() else \"cpu\")\n",
    "print(f\"Using Device: {device}\")"
   ]
  },
  {
   "cell_type": "markdown",
   "metadata": {},
   "source": [
    "## **Create Torch Env**"
   ]
  },
  {
   "cell_type": "code",
   "execution_count": 76,
   "metadata": {},
   "outputs": [],
   "source": [
    "class SoftResetUnityEnv(UnityMLAgentsEnv):\n",
    "    def __init__(self, *args, **kwargs):\n",
    "        super().__init__(*args, **kwargs)\n",
    "        self._did_first_reset = False\n",
    "        self._last_base_td = None  # cache in base (group_*/agent_*) layout\n",
    "\n",
    "    def _step(self, tensordict):\n",
    "        # Cache the base-layout input td so soft resets can back-fill missing agents\n",
    "        self._last_base_td = tensordict\n",
    "        return super()._step(tensordict)\n",
    "\n",
    "    def _reset(self, tensordict=None, **kwargs):\n",
    "        hard = kwargs.pop(\"hard\", False)\n",
    "        if hard or not self._did_first_reset:\n",
    "            # Real Unity reset\n",
    "            td = super()._reset(tensordict, **kwargs)\n",
    "            self._did_first_reset = True\n",
    "            self._last_base_td = td  # keep a base-layout snapshot\n",
    "            return td\n",
    "\n",
    "        # Soft reset: DON'T touch Unity. Give base td to back-fill all agents.\n",
    "        base_td = self._last_base_td\n",
    "        if base_td is None or (\"agents\" in base_td.keys(True)):  # safety\n",
    "            base_td = None\n",
    "        return self._make_td_out(base_td, is_reset=True)\n",
    "\n",
    "\n",
    "def create_unity_env(graphics=False, **kwargs):\n",
    "    try:\n",
    "        env.close()\n",
    "    except:\n",
    "        pass\n",
    "    \n",
    "    env = TransformedEnv(SoftResetUnityEnv(\n",
    "        file_name=ENV_PATH, worker_id=np.random.randint(10000), \n",
    "        no_graphics=(not graphics), **kwargs,\n",
    "        device=\"cpu\",\n",
    "    ))\n",
    "\n",
    "    return env\n",
    "\n",
    "def batch_agents(env, out_key=\"agents\"):\n",
    "    agent_root_key = env.observation_keys[0][0]\n",
    "    agents = list(env.action_spec[agent_root_key].keys())\n",
    "    \n",
    "    # Create transform\n",
    "    stack = Stack(\n",
    "        in_keys=[(agent_root_key, agent) for agent in agents], \n",
    "        out_key=(out_key,), \n",
    "        in_key_inv=(out_key,), \n",
    "        out_keys_inv=[(agent_root_key, agent) for agent in agents]\n",
    "    )\n",
    "\n",
    "    env.append_transform(stack)\n",
    "    return env\n",
    "\n",
    "def create_base_env(graphics=False, **kwargs):\n",
    "    env = create_unity_env(graphics, **kwargs)\n",
    "\n",
    "    # Batch into Agents Dimension\n",
    "    env = batch_agents(env)\n",
    "\n",
    "    # Concatenate Observation\n",
    "    obs_keys = env.observation_keys\n",
    "    env.append_transform(\n",
    "        CatTensors(in_keys=obs_keys, out_key=(\"agents\", \"observation\"), del_keys=False)\n",
    "    )\n",
    "    # Exclude Group Reward\n",
    "    env.append_transform(\n",
    "        ExcludeTransform((\"agents\", \"group_reward\"))\n",
    "    )\n",
    "    return env\n",
    "\n",
    "def create_env(graphics=False, time_scale = 1, **kwargs):\n",
    "    # Time scale\n",
    "    if time_scale != 1:\n",
    "        engine_config_channel = EngineConfigurationChannel()\n",
    "        env = create_base_env(graphics, **kwargs, side_channels=[engine_config_channel])\n",
    "        engine_config_channel.set_configuration_parameters(time_scale=time_scale)\n",
    "    else:\n",
    "        env = create_base_env(graphics, **kwargs)\n",
    "\n",
    "    return env"
   ]
  },
  {
   "cell_type": "markdown",
   "metadata": {},
   "source": [
    "### **Inspect Specs**"
   ]
  },
  {
   "cell_type": "code",
   "execution_count": 77,
   "metadata": {},
   "outputs": [
    {
     "name": "stdout",
     "output_type": "stream",
     "text": [
      "[UnityMemory] Configuration Parameters - Can be set up in boot.config\n",
      "    \"memorysetup-bucket-allocator-granularity=16\"\n",
      "    \"memorysetup-bucket-allocator-bucket-count=8\"\n",
      "    \"memorysetup-bucket-allocator-block-size=4194304\"\n",
      "    \"memorysetup-bucket-allocator-block-count=1\"\n",
      "    \"memorysetup-main-allocator-block-size=16777216\"\n",
      "    \"memorysetup-thread-allocator-block-size=16777216\"\n",
      "    \"memorysetup-gfx-main-allocator-block-size=16777216\"\n",
      "    \"memorysetup-gfx-thread-allocator-block-size=16777216\"\n",
      "    \"memorysetup-cache-allocator-block-size=4194304\"\n",
      "    \"memorysetup-typetree-allocator-block-size=2097152\"\n",
      "    \"memorysetup-profiler-bucket-allocator-granularity=16\"\n",
      "    \"memorysetup-profiler-bucket-allocator-bucket-count=8\"\n",
      "    \"memorysetup-profiler-bucket-allocator-block-size=4194304\"\n",
      "    \"memorysetup-profiler-bucket-allocator-block-count=1\"\n",
      "    \"memorysetup-profiler-allocator-block-size=16777216\"\n",
      "    \"memorysetup-profiler-editor-allocator-block-size=1048576\"\n",
      "    \"memorysetup-temp-allocator-size-main=4194304\"\n",
      "    \"memorysetup-job-temp-allocator-block-size=2097152\"\n",
      "    \"memorysetup-job-temp-allocator-block-size-background=1048576\"\n",
      "    \"memorysetup-job-temp-allocator-reduction-small-platforms=262144\"\n",
      "    \"memorysetup-allocator-temp-initial-block-size-main=262144\"\n",
      "    \"memorysetup-allocator-temp-initial-block-size-worker=262144\"\n",
      "    \"memorysetup-temp-allocator-size-background-worker=32768\"\n",
      "    \"memorysetup-temp-allocator-size-job-worker=262144\"\n",
      "    \"memorysetup-temp-allocator-size-preload-manager=262144\"\n",
      "    \"memorysetup-temp-allocator-size-nav-mesh-worker=65536\"\n",
      "    \"memorysetup-temp-allocator-size-audio-worker=65536\"\n",
      "    \"memorysetup-temp-allocator-size-cloud-worker=32768\"\n",
      "    \"memorysetup-temp-allocator-size-gfx=262144\"\n",
      "Mono path[0] = '/Users/walimirza/unity-rl/envs/PushBlock.app/Contents/Resources/Data/Managed'\n",
      "Mono config path = '/Users/walimirza/unity-rl/envs/PushBlock.app/Contents/MonoBleedingEdge/etc'\n",
      "[Physics::Module] Initialized MultithreadedJobDispatcher with 13 workers.\n",
      "New input system (experimental) initialized\n",
      "Initialize engine version: 2023.2.13f1 (70197a359f36)\n",
      "[Subsystems] Discovering subsystems at path /Users/walimirza/unity-rl/envs/PushBlock.app/Contents/Resources/Data/UnitySubsystems\n",
      "Forcing GfxDevice: Null\n",
      "GfxDevice: creating device client; kGfxThreadingModeNonThreaded\n",
      "NullGfxDevice:\n",
      "    Version:  NULL 1.0 [1.0]\n",
      "    Renderer: Null Device\n",
      "    Vendor:   Unity Technologies\n",
      "Begin MonoManager ReloadAssembly\n",
      "icall.c:1842:\n",
      "icall.c:1842:\n",
      "icall.c:1842:\n",
      "icall.c:1842:\n",
      "icall.c:1842:\n",
      "icall.c:1842:\n",
      "icall.c:1842:\n",
      "icall.c:1842:\n",
      "icall.c:1842:\n",
      "- Loaded All Assemblies, in  0.064 seconds\n",
      "icall.c:1842:\n",
      "icall.c:1842:\n",
      "- Finished resetting the current domain, in  0.001 seconds\n",
      "ERROR: Shader Sprites/Default shader is not supported on this GPU (none of subshaders/fallbacks are suitable)\n",
      "ERROR: Shader Sprites/Mask shader is not supported on this GPU (none of subshaders/fallbacks are suitable)\n",
      "ERROR: Shader Legacy Shaders/VertexLit shader is not supported on this GPU (none of subshaders/fallbacks are suitable)\n",
      "WARNING: Shader Unsupported: 'Legacy Shaders/Diffuse' - All subshaders removed\n",
      "WARNING: Shader Did you use #pragma only_renderers and omit this platform?\n",
      "WARNING: Shader If subshaders removal was intentional, you may have forgotten turning Fallback off?\n",
      "ERROR: Shader Legacy Shaders/Diffuse shader is not supported on this GPU (none of subshaders/fallbacks are suitable)\n",
      "WARNING: Shader Unsupported: 'Legacy Shaders/Diffuse' - All subshaders removed\n",
      "WARNING: Shader Did you use #pragma only_renderers and omit this platform?\n",
      "WARNING: Shader If subshaders removal was intentional, you may have forgotten turning Fallback off?\n",
      "WARNING: Shader Unsupported: 'ML-Agents/GridPattern' - All subshaders removed\n",
      "WARNING: Shader Did you use #pragma only_renderers and omit this platform?\n",
      "WARNING: Shader If subshaders removal was intentional, you may have forgotten turning Fallback off?\n",
      "ERROR: Shader ML-Agents/GridPattern shader is not supported on this GPU (none of subshaders/fallbacks are suitable)\n",
      "WARNING: Shader Unsupported: 'ML-Agents/GridPattern' - All subshaders removed\n",
      "WARNING: Shader Did you use #pragma only_renderers and omit this platform?\n",
      "WARNING: Shader If subshaders removal was intentional, you may have forgotten turning Fallback off?\n",
      "WARNING: Shader Unsupported: 'Standard' - All subshaders removed\n",
      "WARNING: Shader Did you use #pragma only_renderers and omit this platform?\n",
      "WARNING: Shader If subshaders removal was intentional, you may have forgotten turning Fallback off?\n",
      "ERROR: Shader Standard shader is not supported on this GPU (none of subshaders/fallbacks are suitable)\n",
      "WARNING: Shader Unsupported: 'Standard' - All subshaders removed\n",
      "WARNING: Shader Did you use #pragma only_renderers and omit this platform?\n",
      "WARNING: Shader If subshaders removal was intentional, you may have forgotten turning Fallback off?\n",
      "WARNING: Shader Unsupported: 'Autodesk Interactive' - All subshaders removed\n",
      "WARNING: Shader Did you use #pragma only_renderers and omit this platform?\n",
      "WARNING: Shader If subshaders removal was intentional, you may have forgotten turning Fallback off?\n",
      "ERROR: Shader Autodesk Interactive shader is not supported on this GPU (none of subshaders/fallbacks are suitable)\n",
      "WARNING: Shader Unsupported: 'Autodesk Interactive' - All subshaders removed\n",
      "WARNING: Shader Did you use #pragma only_renderers and omit this platform?\n",
      "WARNING: Shader If subshaders removal was intentional, you may have forgotten turning Fallback off?\n",
      "UnloadTime: 0.261625 ms\n",
      "Registered Communicator in Agent.\n",
      "Thread 0x16fb2f000 may have been prematurely finalized\n",
      "Setting up 7 worker threads for Enlighten.\n",
      "Thread 0x16e61b000 may have been prematurely finalized\n",
      "Memory Statistics:\n",
      "[ALLOC_TEMP_TLS] TLS Allocator\n",
      "  StackAllocators : \n",
      "    [ALLOC_TEMP_MAIN]\n",
      "      Peak usage frame count: [2.0 KB-4.0 KB]: 9 frames, [2.0 MB-4.0 MB]: 1 frames\n",
      "      Initial Block Size 4.0 MB\n",
      "      Current Block Size 4.0 MB\n",
      "      Peak Allocated Bytes 2.1 MB\n",
      "      Overflow Count 0\n",
      "    [ALLOC_TEMP_Background Job.worker 4]\n",
      "      Initial Block Size 32.0 KB\n",
      "      Current Block Size 32.0 KB\n",
      "      Peak Allocated Bytes 0 B\n",
      "      Overflow Count 0\n",
      "    [ALLOC_TEMP_Loading.PreloadManager]\n",
      "      Initial Block Size 256.0 KB\n",
      "      Current Block Size 256.0 KB\n",
      "      Peak Allocated Bytes 80.3 KB\n",
      "      Overflow Count 5\n",
      "    [ALLOC_TEMP_Background Job.worker 3]\n",
      "      Initial Block Size 32.0 KB\n",
      "      Current Block Size 32.0 KB\n",
      "      Peak Allocated Bytes 0 B\n",
      "      Overflow Count 0\n",
      "    [ALLOC_TEMP_Background Job.worker 11]\n",
      "      Initial Block Size 32.0 KB\n",
      "      Current Block Size 32.0 KB\n",
      "      Peak Allocated Bytes 0 B\n",
      "      Overflow Count 0\n",
      "    [ALLOC_TEMP_Background Job.worker 7]\n",
      "      Initial Block Size 32.0 KB\n",
      "      Current Block Size 32.0 KB\n",
      "      Peak Allocated Bytes 0 B\n",
      "      Overflow Count 0\n",
      "    [ALLOC_TEMP_Background Job.worker 6]\n",
      "      Initial Block Size 32.0 KB\n",
      "      Current Block Size 32.0 KB\n",
      "      Peak Allocated Bytes 0 B\n",
      "      Overflow Count 0\n",
      "    [ALLOC_TEMP_Job.worker 11]\n",
      "      Initial Block Size 256.0 KB\n",
      "      Current Block Size 256.0 KB\n",
      "      Peak Allocated Bytes 0 B\n",
      "      Overflow Count 0\n",
      "    [ALLOC_TEMP_Background Job.worker 12]\n",
      "      Initial Block Size 32.0 KB\n",
      "      Current Block Size 32.0 KB\n",
      "      Peak Allocated Bytes 0 B\n",
      "      Overflow Count 0\n",
      "    [ALLOC_TEMP_Background Job.worker 2]\n",
      "      Initial Block Size 32.0 KB\n",
      "      Current Block Size 32.0 KB\n",
      "      Peak Allocated Bytes 0 B\n",
      "      Overflow Count 0\n",
      "    [ALLOC_TEMP_Background Job.worker 9]\n",
      "      Initial Block Size 32.0 KB\n",
      "      Current Block Size 32.0 KB\n",
      "      Peak Allocated Bytes 0 B\n",
      "      Overflow Count 0\n",
      "    [ALLOC_TEMP_Job.worker 0]\n",
      "      Initial Block Size 256.0 KB\n",
      "      Current Block Size 256.0 KB\n",
      "      Peak Allocated Bytes 0 B\n",
      "      Overflow Count 0\n",
      "    [ALLOC_TEMP_Job.worker 4]\n",
      "      Initial Block Size 256.0 KB\n",
      "      Current Block Size 256.0 KB\n",
      "      Peak Allocated Bytes 0 B\n",
      "      Overflow Count 0\n",
      "    [ALLOC_TEMP_Job.worker 5]\n",
      "      Initial Block Size 256.0 KB\n",
      "      Current Block Size 256.0 KB\n",
      "      Peak Allocated Bytes 0 B\n",
      "      Overflow Count 0\n",
      "    [ALLOC_TEMP_Background Job.worker 8]\n",
      "      Initial Block Size 32.0 KB\n",
      "      Current Block Size 32.0 KB\n",
      "      Peak Allocated Bytes 0 B\n",
      "      Overflow Count 0\n",
      "    [ALLOC_TEMP_Background Job.worker 10]\n",
      "      Initial Block Size 32.0 KB\n",
      "      Current Block Size 32.0 KB\n",
      "      Peak Allocated Bytes 0 B\n",
      "      Overflow Count 0\n",
      "    [ALLOC_TEMP_Background Job.worker 1]\n",
      "      Initial Block Size 32.0 KB\n",
      "      Current Block Size 32.0 KB\n",
      "      Peak Allocated Bytes 0 B\n",
      "      Overflow Count 0\n",
      "    [ALLOC_TEMP_EnlightenWorker] x 7\n",
      "      Initial Block Size 64.0 KB\n",
      "      Current Block Size 64.0 KB\n",
      "      Peak Allocated Bytes 0 B\n",
      "      Overflow Count 0\n",
      "    [ALLOC_TEMP_Job.worker 1]\n",
      "      Initial Block Size 256.0 KB\n",
      "      Current Block Size 256.0 KB\n",
      "      Peak Allocated Bytes 0.5 KB\n",
      "      Overflow Count 0\n",
      "    [ALLOC_TEMP_Job.worker 3]\n",
      "      Initial Block Size 256.0 KB\n",
      "      Current Block Size 256.0 KB\n",
      "      Peak Allocated Bytes 0 B\n",
      "      Overflow Count 0\n",
      "    [ALLOC_TEMP_Background Job.worker 5]\n",
      "      Initial Block Size 32.0 KB\n",
      "      Current Block Size 32.0 KB\n",
      "      Peak Allocated Bytes 0 B\n",
      "      Overflow Count 0\n",
      "    [ALLOC_TEMP_Job.worker 12]\n",
      "      Initial Block Size 256.0 KB\n",
      "      Current Block Size 256.0 KB\n",
      "      Peak Allocated Bytes 0 B\n",
      "      Overflow Count 0\n",
      "    [ALLOC_TEMP_AssetGarbageCollectorHelper] x 13\n",
      "      Initial Block Size 64.0 KB\n",
      "      Current Block Size 64.0 KB\n",
      "      Peak Allocated Bytes 0 B\n",
      "      Overflow Count 0\n",
      "    [ALLOC_TEMP_Background Job.worker 13]\n",
      "      Initial Block Size 32.0 KB\n",
      "      Current Block Size 32.0 KB\n",
      "      Peak Allocated Bytes 0 B\n",
      "      Overflow Count 0\n",
      "    [ALLOC_TEMP_Background Job.worker 15]\n",
      "      Initial Block Size 32.0 KB\n",
      "      Current Block Size 32.0 KB\n",
      "      Peak Allocated Bytes 0 B\n",
      "      Overflow Count 0\n",
      "    [ALLOC_TEMP_Job.worker 2]\n",
      "      Initial Block Size 256.0 KB\n",
      "      Current Block Size 256.0 KB\n",
      "      Peak Allocated Bytes 0.7 KB\n",
      "      Overflow Count 0\n",
      "    [ALLOC_TEMP_Job.worker 10]\n",
      "      Initial Block Size 256.0 KB\n",
      "      Current Block Size 256.0 KB\n",
      "      Peak Allocated Bytes 0 B\n",
      "      Overflow Count 0\n",
      "    [ALLOC_TEMP_Job.worker 7]\n",
      "      Initial Block Size 256.0 KB\n",
      "      Current Block Size 256.0 KB\n",
      "      Peak Allocated Bytes 0 B\n",
      "      Overflow Count 0\n",
      "    [ALLOC_TEMP_OSX HID Input]\n",
      "      Initial Block Size 64.0 KB\n",
      "      Current Block Size 64.0 KB\n",
      "      Peak Allocated Bytes 0 B\n",
      "      Overflow Count 0\n",
      "    [ALLOC_TEMP_Job.worker 9]\n",
      "      Initial Block Size 256.0 KB\n",
      "      Current Block Size 256.0 KB\n",
      "      Peak Allocated Bytes 0 B\n",
      "      Overflow Count 0\n",
      "    [ALLOC_TEMP_Background Job.worker 0]\n",
      "      Initial Block Size 32.0 KB\n",
      "      Current Block Size 32.0 KB\n",
      "      Peak Allocated Bytes 0 B\n",
      "      Overflow Count 0\n",
      "    [ALLOC_TEMP_Job.worker 6]\n",
      "      Initial Block Size 256.0 KB\n",
      "      Current Block Size 256.0 KB\n",
      "      Peak Allocated Bytes 0 B\n",
      "      Overflow Count 0\n",
      "    [ALLOC_TEMP_Job.worker 8]\n",
      "      Initial Block Size 256.0 KB\n",
      "      Current Block Size 256.0 KB\n",
      "      Peak Allocated Bytes 0 B\n",
      "      Overflow Count 0\n",
      "    [ALLOC_TEMP_Background Job.worker 14]\n",
      "      Initial Block Size 32.0 KB\n",
      "      Current Block Size 32.0 KB\n",
      "      Peak Allocated Bytes 0 B\n",
      "      Overflow Count 0\n",
      "    [ALLOC_TEMP_Loading.AsyncRead]\n",
      "      Initial Block Size 64.0 KB\n",
      "      Current Block Size 64.0 KB\n",
      "      Peak Allocated Bytes 128 B\n",
      "      Overflow Count 0\n",
      "    [ALLOC_TEMP_BatchDeleteObjects]\n",
      "      Initial Block Size 64.0 KB\n",
      "      Current Block Size 64.0 KB\n",
      "      Peak Allocated Bytes 0 B\n",
      "      Overflow Count 0\n",
      "[ALLOC_DEFAULT] Dual Thread Allocator\n",
      "  Peak main deferred allocation count 29\n",
      "    [ALLOC_BUCKET]\n",
      "      Large Block size 4.0 MB\n",
      "      Used Block count 1\n",
      "      Peak Allocated bytes 1.3 MB\n",
      "    [ALLOC_DEFAULT_MAIN]\n",
      "      Peak usage frame count: [16.0 MB-32.0 MB]: 10 frames\n",
      "      Requested Block Size 16.0 MB\n",
      "      Peak Block count 1\n",
      "      Peak Allocated memory 29.3 MB\n",
      "      Peak Large allocation bytes 16.0 MB\n",
      "    [ALLOC_DEFAULT_THREAD]\n",
      "      Peak usage frame count: [0.5 MB-1.0 MB]: 1 frames, [1.0 MB-2.0 MB]: 9 frames\n",
      "      Requested Block Size 16.0 MB\n",
      "      Peak Block count 1\n",
      "      Peak Allocated memory 1.5 MB\n",
      "      Peak Large allocation bytes 0 B\n",
      "[ALLOC_TEMP_JOB_1_FRAME]\n",
      "  Initial Block Size 2.0 MB\n",
      "  Used Block Count 1\n",
      "  Overflow Count (too large) 0\n",
      "  Overflow Count (full) 0\n",
      "[ALLOC_TEMP_JOB_2_FRAMES]\n",
      "  Initial Block Size 2.0 MB\n",
      "  Used Block Count 0\n",
      "  Overflow Count (too large) 0\n",
      "  Overflow Count (full) 0\n",
      "[ALLOC_TEMP_JOB_4_FRAMES (JobTemp)]\n",
      "  Initial Block Size 2.0 MB\n",
      "  Used Block Count 1\n",
      "  Overflow Count (too large) 0\n",
      "  Overflow Count (full) 0\n",
      "[ALLOC_TEMP_JOB_ASYNC (Background)]\n",
      "  Initial Block Size 1.0 MB\n",
      "  Used Block Count 1\n",
      "  Overflow Count (too large) 0\n",
      "  Overflow Count (full) 0\n",
      "[ALLOC_GFX] Dual Thread Allocator\n",
      "  Peak main deferred allocation count 0\n",
      "    [ALLOC_BUCKET]\n",
      "      Large Block size 4.0 MB\n",
      "      Used Block count 1\n",
      "      Peak Allocated bytes 1.3 MB\n",
      "    [ALLOC_GFX_MAIN]\n",
      "      Peak usage frame count: [32.0 KB-64.0 KB]: 9 frames, [64.0 KB-128.0 KB]: 1 frames\n",
      "      Requested Block Size 16.0 MB\n",
      "      Peak Block count 1\n",
      "      Peak Allocated memory 69.7 KB\n",
      "      Peak Large allocation bytes 0 B\n",
      "    [ALLOC_GFX_THREAD]\n",
      "      Peak usage frame count: [8.0 KB-16.0 KB]: 10 frames\n",
      "      Requested Block Size 16.0 MB\n",
      "      Peak Block count 1\n",
      "      Peak Allocated memory 12.9 KB\n",
      "      Peak Large allocation bytes 0 B\n",
      "[ALLOC_CACHEOBJECTS] Dual Thread Allocator\n",
      "  Peak main deferred allocation count 0\n",
      "    [ALLOC_BUCKET]\n",
      "      Large Block size 4.0 MB\n",
      "      Used Block count 1\n",
      "      Peak Allocated bytes 1.3 MB\n",
      "    [ALLOC_CACHEOBJECTS_MAIN]\n",
      "      Peak usage frame count: [0.5 MB-1.0 MB]: 10 frames\n",
      "      Requested Block Size 4.0 MB\n",
      "      Peak Block count 1\n",
      "      Peak Allocated memory 0.7 MB\n",
      "      Peak Large allocation bytes 0 B\n",
      "    [ALLOC_CACHEOBJECTS_THREAD]\n",
      "      Peak usage frame count: [0.5 MB-1.0 MB]: 9 frames, [4.0 MB-8.0 MB]: 1 frames\n",
      "      Requested Block Size 4.0 MB\n",
      "      Peak Block count 2\n",
      "      Peak Allocated memory 4.4 MB\n",
      "      Peak Large allocation bytes 0 B\n",
      "[ALLOC_TYPETREE] Dual Thread Allocator\n",
      "  Peak main deferred allocation count 0\n",
      "    [ALLOC_BUCKET]\n",
      "      Large Block size 4.0 MB\n",
      "      Used Block count 1\n",
      "      Peak Allocated bytes 1.3 MB\n",
      "    [ALLOC_TYPETREE_MAIN]\n",
      "      Peak usage frame count: [0-1.0 KB]: 10 frames\n",
      "      Requested Block Size 2.0 MB\n",
      "      Peak Block count 1\n",
      "      Peak Allocated memory 112 B\n",
      "      Peak Large allocation bytes 0 B\n",
      "    [ALLOC_TYPETREE_THREAD]\n",
      "      Peak usage frame count: [1.0 KB-2.0 KB]: 10 frames\n",
      "      Requested Block Size 2.0 MB\n",
      "      Peak Block count 1\n",
      "      Peak Allocated memory 1.9 KB\n",
      "      Peak Large allocation bytes 0 B\n",
      "ERROR: Shader UI/Default shader is not supported on this GPU (none of subshaders/fallbacks are suitable)\n",
      "\u001b[92m2025-09-27 23:39:00,314 [torchrl][INFO]\u001b[0m    check_env_specs succeeded!\u001b[92m [END]\u001b[0m\n",
      "action_spec: Composite(\n",
      "    agents: Composite(\n",
      "        discrete_action: MultiOneHot(\n",
      "            shape=torch.Size([32, 7]),\n",
      "            space=BoxList(boxes=[CategoricalBox(n=7)]),\n",
      "            device=cpu,\n",
      "            dtype=torch.int32,\n",
      "            domain=discrete),\n",
      "        device=cpu,\n",
      "        shape=torch.Size([32]),\n",
      "        data_cls=None),\n",
      "    device=cpu,\n",
      "    shape=torch.Size([]),\n",
      "    data_cls=None)\n",
      "reward_spec: Composite(\n",
      "    agents: Composite(\n",
      "        reward: UnboundedContinuous(\n",
      "            shape=torch.Size([32, 1]),\n",
      "            space=ContinuousBox(\n",
      "                low=Tensor(shape=torch.Size([32, 1]), device=cpu, dtype=torch.float32, contiguous=True),\n",
      "                high=Tensor(shape=torch.Size([32, 1]), device=cpu, dtype=torch.float32, contiguous=True)),\n",
      "            device=cpu,\n",
      "            dtype=torch.float32,\n",
      "            domain=continuous),\n",
      "        device=cpu,\n",
      "        shape=torch.Size([32]),\n",
      "        data_cls=None),\n",
      "    device=cpu,\n",
      "    shape=torch.Size([]),\n",
      "    data_cls=None)\n",
      "done_spec: Composite(\n",
      "    agents: Composite(\n",
      "        done: Categorical(\n",
      "            shape=torch.Size([32, 1]),\n",
      "            space=CategoricalBox(n=2),\n",
      "            device=cpu,\n",
      "            dtype=torch.bool,\n",
      "            domain=discrete),\n",
      "        terminated: Categorical(\n",
      "            shape=torch.Size([32, 1]),\n",
      "            space=CategoricalBox(n=2),\n",
      "            device=cpu,\n",
      "            dtype=torch.bool,\n",
      "            domain=discrete),\n",
      "        truncated: Categorical(\n",
      "            shape=torch.Size([32, 1]),\n",
      "            space=CategoricalBox(n=2),\n",
      "            device=cpu,\n",
      "            dtype=torch.bool,\n",
      "            domain=discrete),\n",
      "        device=cpu,\n",
      "        shape=torch.Size([32]),\n",
      "        data_cls=None),\n",
      "    device=cpu,\n",
      "    shape=torch.Size([]),\n",
      "    data_cls=None)\n",
      "observation_spec: Composite(\n",
      "    agents: Composite(\n",
      "        StackingSensor_size3_OffsetRayPerceptionSensor: UnboundedContinuous(\n",
      "            shape=torch.Size([32, 105]),\n",
      "            space=ContinuousBox(\n",
      "                low=Tensor(shape=torch.Size([32, 105]), device=cpu, dtype=torch.float32, contiguous=True),\n",
      "                high=Tensor(shape=torch.Size([32, 105]), device=cpu, dtype=torch.float32, contiguous=True)),\n",
      "            device=cpu,\n",
      "            dtype=torch.float32,\n",
      "            domain=continuous),\n",
      "        StackingSensor_size3_RayPerceptionSensor: UnboundedContinuous(\n",
      "            shape=torch.Size([32, 105]),\n",
      "            space=ContinuousBox(\n",
      "                low=Tensor(shape=torch.Size([32, 105]), device=cpu, dtype=torch.float32, contiguous=True),\n",
      "                high=Tensor(shape=torch.Size([32, 105]), device=cpu, dtype=torch.float32, contiguous=True)),\n",
      "            device=cpu,\n",
      "            dtype=torch.float32,\n",
      "            domain=continuous),\n",
      "        observation: UnboundedContinuous(\n",
      "            shape=torch.Size([32, 210]),\n",
      "            space=ContinuousBox(\n",
      "                low=Tensor(shape=torch.Size([32, 210]), device=cpu, dtype=torch.float32, contiguous=True),\n",
      "                high=Tensor(shape=torch.Size([32, 210]), device=cpu, dtype=torch.float32, contiguous=True)),\n",
      "            device=cpu,\n",
      "            dtype=torch.float32,\n",
      "            domain=continuous),\n",
      "        device=cpu,\n",
      "        shape=torch.Size([32]),\n",
      "        data_cls=None),\n",
      "    device=cpu,\n",
      "    shape=torch.Size([]),\n",
      "    data_cls=None)\n"
     ]
    }
   ],
   "source": [
    "def print_specs(env):\n",
    "    print(\"action_spec:\", env.action_spec)\n",
    "    print(\"reward_spec:\", env.reward_spec)\n",
    "    print(\"done_spec:\", env.done_spec)\n",
    "    print(\"observation_spec:\", env.observation_spec)\n",
    "\n",
    "env = create_env(time_scale=20)\n",
    "check_env_specs(env)\n",
    "print_specs(env)"
   ]
  },
  {
   "cell_type": "code",
   "execution_count": 78,
   "metadata": {},
   "outputs": [
    {
     "name": "stdout",
     "output_type": "stream",
     "text": [
      "action_key: discrete_action\n",
      "observation_shape: torch.Size([32, 210]), action_shape: torch.Size([32, 7])\n"
     ]
    }
   ],
   "source": [
    "action_key = env.action_key[1]\n",
    "print(f\"action_key: {action_key}\")\n",
    "\n",
    "observation_shape = env.observation_spec[\"agents\", \"observation\"].shape\n",
    "action_shape = env.action_spec[\"agents\", action_key].shape\n",
    "\n",
    "print(f\"observation_shape: {observation_shape}, action_shape: {action_shape}\")"
   ]
  },
  {
   "cell_type": "code",
   "execution_count": 79,
   "metadata": {},
   "outputs": [
    {
     "data": {
      "text/plain": [
       "TensorDict(\n",
       "    fields={\n",
       "        agents: TensorDict(\n",
       "            fields={\n",
       "                StackingSensor_size3_OffsetRayPerceptionSensor: Tensor(shape=torch.Size([258, 32, 105]), device=cpu, dtype=torch.float32, is_shared=False),\n",
       "                StackingSensor_size3_RayPerceptionSensor: Tensor(shape=torch.Size([258, 32, 105]), device=cpu, dtype=torch.float32, is_shared=False),\n",
       "                discrete_action: Tensor(shape=torch.Size([258, 32, 7]), device=cpu, dtype=torch.int32, is_shared=False),\n",
       "                done: Tensor(shape=torch.Size([258, 32, 1]), device=cpu, dtype=torch.bool, is_shared=False),\n",
       "                observation: Tensor(shape=torch.Size([258, 32, 210]), device=cpu, dtype=torch.float32, is_shared=False),\n",
       "                terminated: Tensor(shape=torch.Size([258, 32, 1]), device=cpu, dtype=torch.bool, is_shared=False),\n",
       "                truncated: Tensor(shape=torch.Size([258, 32, 1]), device=cpu, dtype=torch.bool, is_shared=False)},\n",
       "            batch_size=torch.Size([258, 32]),\n",
       "            device=cpu,\n",
       "            is_shared=False),\n",
       "        next: TensorDict(\n",
       "            fields={\n",
       "                agents: TensorDict(\n",
       "                    fields={\n",
       "                        StackingSensor_size3_OffsetRayPerceptionSensor: Tensor(shape=torch.Size([258, 32, 105]), device=cpu, dtype=torch.float32, is_shared=False),\n",
       "                        StackingSensor_size3_RayPerceptionSensor: Tensor(shape=torch.Size([258, 32, 105]), device=cpu, dtype=torch.float32, is_shared=False),\n",
       "                        done: Tensor(shape=torch.Size([258, 32, 1]), device=cpu, dtype=torch.bool, is_shared=False),\n",
       "                        observation: Tensor(shape=torch.Size([258, 32, 210]), device=cpu, dtype=torch.float32, is_shared=False),\n",
       "                        reward: Tensor(shape=torch.Size([258, 32, 1]), device=cpu, dtype=torch.float32, is_shared=False),\n",
       "                        terminated: Tensor(shape=torch.Size([258, 32, 1]), device=cpu, dtype=torch.bool, is_shared=False),\n",
       "                        truncated: Tensor(shape=torch.Size([258, 32, 1]), device=cpu, dtype=torch.bool, is_shared=False)},\n",
       "                    batch_size=torch.Size([258, 32]),\n",
       "                    device=cpu,\n",
       "                    is_shared=False)},\n",
       "            batch_size=torch.Size([258]),\n",
       "            device=cpu,\n",
       "            is_shared=False)},\n",
       "    batch_size=torch.Size([258]),\n",
       "    device=cpu,\n",
       "    is_shared=False)"
      ]
     },
     "execution_count": 79,
     "metadata": {},
     "output_type": "execute_result"
    }
   ],
   "source": [
    "td = env.rollout(1000)\n",
    "td"
   ]
  },
  {
   "cell_type": "markdown",
   "metadata": {},
   "source": [
    "### **Inspect Action Space**\n",
    "\n",
    "We have categorical actions: 7 choices (choose one)."
   ]
  },
  {
   "cell_type": "code",
   "execution_count": 80,
   "metadata": {},
   "outputs": [
    {
     "data": {
      "text/html": [
       "<div>\n",
       "<style scoped>\n",
       "    .dataframe tbody tr th:only-of-type {\n",
       "        vertical-align: middle;\n",
       "    }\n",
       "\n",
       "    .dataframe tbody tr th {\n",
       "        vertical-align: top;\n",
       "    }\n",
       "\n",
       "    .dataframe thead th {\n",
       "        text-align: right;\n",
       "    }\n",
       "</style>\n",
       "<table border=\"1\" class=\"dataframe\">\n",
       "  <thead>\n",
       "    <tr style=\"text-align: right;\">\n",
       "      <th></th>\n",
       "      <th>action</th>\n",
       "    </tr>\n",
       "  </thead>\n",
       "  <tbody>\n",
       "    <tr>\n",
       "      <th>count</th>\n",
       "      <td>57792.000000</td>\n",
       "    </tr>\n",
       "    <tr>\n",
       "      <th>mean</th>\n",
       "      <td>0.142857</td>\n",
       "    </tr>\n",
       "    <tr>\n",
       "      <th>std</th>\n",
       "      <td>0.349930</td>\n",
       "    </tr>\n",
       "    <tr>\n",
       "      <th>min</th>\n",
       "      <td>0.000000</td>\n",
       "    </tr>\n",
       "    <tr>\n",
       "      <th>25%</th>\n",
       "      <td>0.000000</td>\n",
       "    </tr>\n",
       "    <tr>\n",
       "      <th>50%</th>\n",
       "      <td>0.000000</td>\n",
       "    </tr>\n",
       "    <tr>\n",
       "      <th>75%</th>\n",
       "      <td>0.000000</td>\n",
       "    </tr>\n",
       "    <tr>\n",
       "      <th>max</th>\n",
       "      <td>1.000000</td>\n",
       "    </tr>\n",
       "  </tbody>\n",
       "</table>\n",
       "</div>"
      ],
      "text/plain": [
       "             action\n",
       "count  57792.000000\n",
       "mean       0.142857\n",
       "std        0.349930\n",
       "min        0.000000\n",
       "25%        0.000000\n",
       "50%        0.000000\n",
       "75%        0.000000\n",
       "max        1.000000"
      ]
     },
     "execution_count": 80,
     "metadata": {},
     "output_type": "execute_result"
    }
   ],
   "source": [
    "actions_df = pd.DataFrame({\n",
    "    \"action\": td[\"agents\", action_key].reshape(-1)\n",
    "})\n",
    "actions_df.describe()"
   ]
  },
  {
   "cell_type": "markdown",
   "metadata": {},
   "source": [
    "### **Inspect Observation Space**\n",
    "\n",
    "Observations consist of binary features and continuous features scaled to the range [0, 1]."
   ]
  },
  {
   "cell_type": "code",
   "execution_count": 81,
   "metadata": {},
   "outputs": [
    {
     "data": {
      "text/html": [
       "<div>\n",
       "<style scoped>\n",
       "    .dataframe tbody tr th:only-of-type {\n",
       "        vertical-align: middle;\n",
       "    }\n",
       "\n",
       "    .dataframe tbody tr th {\n",
       "        vertical-align: top;\n",
       "    }\n",
       "\n",
       "    .dataframe thead th {\n",
       "        text-align: right;\n",
       "    }\n",
       "</style>\n",
       "<table border=\"1\" class=\"dataframe\">\n",
       "  <thead>\n",
       "    <tr style=\"text-align: right;\">\n",
       "      <th></th>\n",
       "      <th>obs</th>\n",
       "    </tr>\n",
       "  </thead>\n",
       "  <tbody>\n",
       "    <tr>\n",
       "      <th>count</th>\n",
       "      <td>1.733760e+06</td>\n",
       "    </tr>\n",
       "    <tr>\n",
       "      <th>mean</th>\n",
       "      <td>3.418947e-01</td>\n",
       "    </tr>\n",
       "    <tr>\n",
       "      <th>std</th>\n",
       "      <td>4.551491e-01</td>\n",
       "    </tr>\n",
       "    <tr>\n",
       "      <th>min</th>\n",
       "      <td>0.000000e+00</td>\n",
       "    </tr>\n",
       "    <tr>\n",
       "      <th>25%</th>\n",
       "      <td>0.000000e+00</td>\n",
       "    </tr>\n",
       "    <tr>\n",
       "      <th>50%</th>\n",
       "      <td>0.000000e+00</td>\n",
       "    </tr>\n",
       "    <tr>\n",
       "      <th>75%</th>\n",
       "      <td>1.000000e+00</td>\n",
       "    </tr>\n",
       "    <tr>\n",
       "      <th>max</th>\n",
       "      <td>1.000000e+00</td>\n",
       "    </tr>\n",
       "  </tbody>\n",
       "</table>\n",
       "</div>"
      ],
      "text/plain": [
       "                obs\n",
       "count  1.733760e+06\n",
       "mean   3.418947e-01\n",
       "std    4.551491e-01\n",
       "min    0.000000e+00\n",
       "25%    0.000000e+00\n",
       "50%    0.000000e+00\n",
       "75%    1.000000e+00\n",
       "max    1.000000e+00"
      ]
     },
     "execution_count": 81,
     "metadata": {},
     "output_type": "execute_result"
    }
   ],
   "source": [
    "obs_df = pd.DataFrame({\n",
    "    \"obs\": td[\"agents\", \"observation\"].reshape(-1)\n",
    "})\n",
    "obs_df.describe()"
   ]
  },
  {
   "cell_type": "markdown",
   "metadata": {},
   "source": [
    "### **Inspect Reward Space**\n",
    "-0.001 for surviving, +1 on success."
   ]
  },
  {
   "cell_type": "code",
   "execution_count": 82,
   "metadata": {},
   "outputs": [
    {
     "data": {
      "text/html": [
       "<div>\n",
       "<style scoped>\n",
       "    .dataframe tbody tr th:only-of-type {\n",
       "        vertical-align: middle;\n",
       "    }\n",
       "\n",
       "    .dataframe tbody tr th {\n",
       "        vertical-align: top;\n",
       "    }\n",
       "\n",
       "    .dataframe thead th {\n",
       "        text-align: right;\n",
       "    }\n",
       "</style>\n",
       "<table border=\"1\" class=\"dataframe\">\n",
       "  <thead>\n",
       "    <tr style=\"text-align: right;\">\n",
       "      <th></th>\n",
       "      <th>reward</th>\n",
       "    </tr>\n",
       "  </thead>\n",
       "  <tbody>\n",
       "    <tr>\n",
       "      <th>count</th>\n",
       "      <td>8256.000000</td>\n",
       "    </tr>\n",
       "    <tr>\n",
       "      <th>mean</th>\n",
       "      <td>-0.000391</td>\n",
       "    </tr>\n",
       "    <tr>\n",
       "      <th>std</th>\n",
       "      <td>0.055033</td>\n",
       "    </tr>\n",
       "    <tr>\n",
       "      <th>min</th>\n",
       "      <td>-0.001000</td>\n",
       "    </tr>\n",
       "    <tr>\n",
       "      <th>25%</th>\n",
       "      <td>-0.001000</td>\n",
       "    </tr>\n",
       "    <tr>\n",
       "      <th>50%</th>\n",
       "      <td>-0.001000</td>\n",
       "    </tr>\n",
       "    <tr>\n",
       "      <th>75%</th>\n",
       "      <td>-0.001000</td>\n",
       "    </tr>\n",
       "    <tr>\n",
       "      <th>max</th>\n",
       "      <td>4.999400</td>\n",
       "    </tr>\n",
       "  </tbody>\n",
       "</table>\n",
       "</div>"
      ],
      "text/plain": [
       "            reward\n",
       "count  8256.000000\n",
       "mean     -0.000391\n",
       "std       0.055033\n",
       "min      -0.001000\n",
       "25%      -0.001000\n",
       "50%      -0.001000\n",
       "75%      -0.001000\n",
       "max       4.999400"
      ]
     },
     "execution_count": 82,
     "metadata": {},
     "output_type": "execute_result"
    }
   ],
   "source": [
    "reward_df = pd.DataFrame({\n",
    "    \"reward\": td[\"next\", \"agents\", \"reward\"].reshape(-1),\n",
    "})\n",
    "reward_df.describe()"
   ]
  },
  {
   "cell_type": "markdown",
   "metadata": {},
   "source": [
    "## **Create Models**"
   ]
  },
  {
   "cell_type": "markdown",
   "metadata": {},
   "source": [
    "### **Config**"
   ]
  },
  {
   "cell_type": "code",
   "execution_count": 83,
   "metadata": {},
   "outputs": [
    {
     "data": {
      "text/plain": [
       "{'hidden_dim': 256, 'n_blocks': 3, 'in_features': 210, 'out_features': 7}"
      ]
     },
     "execution_count": 83,
     "metadata": {},
     "output_type": "execute_result"
    }
   ],
   "source": [
    "HIDDEN_DIM = 256\n",
    "N_BLOCKS = 3\n",
    "\n",
    "MODEL_CONFIG = {\n",
    "    \"hidden_dim\": HIDDEN_DIM,\n",
    "    \"n_blocks\": N_BLOCKS,\n",
    "    \"in_features\": int(observation_shape[1]),\n",
    "    \"out_features\": int(action_shape[1]),\n",
    "}\n",
    "MODEL_CONFIG"
   ]
  },
  {
   "cell_type": "markdown",
   "metadata": {},
   "source": [
    "### **Inspect**"
   ]
  },
  {
   "cell_type": "code",
   "execution_count": 84,
   "metadata": {},
   "outputs": [
    {
     "data": {
      "text/plain": [
       "TensorDict(\n",
       "    fields={\n",
       "        StackingSensor_size3_OffsetRayPerceptionSensor: Tensor(shape=torch.Size([10, 32, 105]), device=cpu, dtype=torch.float32, is_shared=False),\n",
       "        StackingSensor_size3_RayPerceptionSensor: Tensor(shape=torch.Size([10, 32, 105]), device=cpu, dtype=torch.float32, is_shared=False),\n",
       "        advantage: Tensor(shape=torch.Size([10, 32, 1]), device=cpu, dtype=torch.float32, is_shared=False),\n",
       "        discrete_action: Tensor(shape=torch.Size([10, 32, 7]), device=cpu, dtype=torch.float32, is_shared=False),\n",
       "        done: Tensor(shape=torch.Size([10, 32, 1]), device=cpu, dtype=torch.bool, is_shared=False),\n",
       "        log_prob: Tensor(shape=torch.Size([10, 32]), device=cpu, dtype=torch.float32, is_shared=False),\n",
       "        logits: Tensor(shape=torch.Size([10, 32, 7]), device=cpu, dtype=torch.float32, is_shared=False),\n",
       "        observation: Tensor(shape=torch.Size([10, 32, 210]), device=cpu, dtype=torch.float32, is_shared=False),\n",
       "        reward: Tensor(shape=torch.Size([10, 32, 1]), device=cpu, dtype=torch.float32, is_shared=False),\n",
       "        state_value: Tensor(shape=torch.Size([10, 32, 1]), device=cpu, dtype=torch.float32, is_shared=False),\n",
       "        terminated: Tensor(shape=torch.Size([10, 32, 1]), device=cpu, dtype=torch.bool, is_shared=False),\n",
       "        truncated: Tensor(shape=torch.Size([10, 32, 1]), device=cpu, dtype=torch.bool, is_shared=False),\n",
       "        value_target: Tensor(shape=torch.Size([10, 32, 1]), device=cpu, dtype=torch.float32, is_shared=False)},\n",
       "    batch_size=torch.Size([10, 32]),\n",
       "    device=cpu,\n",
       "    is_shared=False)"
      ]
     },
     "execution_count": 84,
     "metadata": {},
     "output_type": "execute_result"
    }
   ],
   "source": [
    "policy, value = create_policy(MODEL_CONFIG).to(device), create_value(MODEL_CONFIG).to(device)\n",
    "loss_module = make_loss_module(policy, value, epsilon=0.1, entropy_coef=0.01, gamma=0.99, lmbda=0.95).to(device)\n",
    "\n",
    "with torch.no_grad():\n",
    "    td = env.rollout(10, policy=policy, auto_cast_to_device=True).to(device)\n",
    "    loss_module.value_estimator(td)\n",
    "data = step_mdp(td)[\"agents\"]\n",
    "data"
   ]
  },
  {
   "cell_type": "code",
   "execution_count": 85,
   "metadata": {},
   "outputs": [
    {
     "data": {
      "text/plain": [
       "{'return': -0.009981251321732998,\n",
       " 'episode_length': 10.0,\n",
       " 'entropy': 1.811618447303772}"
      ]
     },
     "execution_count": 85,
     "metadata": {},
     "output_type": "execute_result"
    }
   ],
   "source": [
    "compute_single_trajectory_metrics(td)"
   ]
  },
  {
   "cell_type": "markdown",
   "metadata": {},
   "source": [
    "## **Training**"
   ]
  },
  {
   "cell_type": "markdown",
   "metadata": {},
   "source": [
    "### **Train Config**"
   ]
  },
  {
   "cell_type": "code",
   "execution_count": 86,
   "metadata": {},
   "outputs": [
    {
     "name": "stdout",
     "output_type": "stream",
     "text": [
      "device: cpu workers: 1\n"
     ]
    }
   ],
   "source": [
    "device_type = \"cuda\" if str(device).startswith(\"cuda\") else \"cpu\"\n",
    "amp_dtype   = torch.float16 if device_type == \"cuda\" else torch.float32\n",
    "\n",
    "### Training Loop Params\n",
    "WORKERS = 1 # os.cpu_count() // 2\n",
    "print(\"device:\", device, \"workers:\", WORKERS)\n",
    "STORAGE_DEVICE = device\n",
    "GENERATION_SIZE = 1000 * WORKERS # 1000 is the truncation point for the env\n",
    "TIMESTAMPS = GENERATION_SIZE * 50\n",
    "EPOCHS = 5\n",
    "\n",
    "# GD Params\n",
    "MINIBATCH_SIZE = 64\n",
    "LR = 5e-5\n",
    "MAX_GRAD_NORM = 0.5\n",
    "\n",
    "### RL Params\n",
    "\n",
    "# ENV Params\n",
    "TIME_SCALE = 20\n",
    "\n",
    "# PPO Params\n",
    "GAMMA = 0.99\n",
    "GAE_LAMBDA = 0.95\n",
    "EPSILON = 0.2\n",
    "ENTROPY_COEF = 1e-5\n",
    "\n",
    "LOG_KEYS = [\n",
    "    \"generation\", \"time\", \"collection_time\", \"train_time\",  # Training Progress Metrics\n",
    "    \"return\", \"episode_length\",                             # Performance Metrics\n",
    "    \"entropy\",                                              # Exploration Metrics\n",
    "    \"policy_loss\", \"kl_approx\", \"clip_fraction\", \"ESS\",     # Policy Metrics\n",
    "    \"value_loss\", \"explained_variance\",                     # Value Metrics\n",
    "]\n",
    "\n",
    "LOG_PATH = 'logs'\n",
    "CKPT_PATH = 'ckpt'\n",
    "MODEL_PATH = 'models'\n",
    "NAME = 'run0'\n",
    "\n",
    "LOG_INTERVAL = 1\n",
    "CHECKPOINT_INTERVAL = 1\n",
    "METRIC_KEY = \"return\"\n",
    "\n",
    "CONTINUE=False"
   ]
  },
  {
   "cell_type": "markdown",
   "metadata": {},
   "source": [
    "### **Train Loop**"
   ]
  },
  {
   "cell_type": "code",
   "execution_count": 87,
   "metadata": {},
   "outputs": [],
   "source": [
    "def train(create_env, policy, value, timestamps=TIMESTAMPS):\n",
    "    # Loss + Optimizer\n",
    "    loss_module = make_loss_module(policy, value, epsilon=EPSILON, entropy_coef=ENTROPY_COEF, gamma=GAMMA, lmbda=GAE_LAMBDA)\n",
    "    optimizer = optim.Adam(loss_module.parameters(), lr=LR)\n",
    "    # only need scaler with float16, float32 and bfloat16 have wider exponent ranges.\n",
    "    scaler = torch.amp.GradScaler(enabled=(amp_dtype == torch.float16))\n",
    "\n",
    "    # Logger + Checkpointer\n",
    "    logger = Logger(keys = LOG_KEYS, log_path=LOG_PATH, name=NAME)\n",
    "    checkpointer = Checkpointer(ckpt_path=CKPT_PATH, name=NAME)\n",
    "    \n",
    "\n",
    "    # Continue/Reset\n",
    "    start_generation = 0\n",
    "    if not CONTINUE:\n",
    "        logger.reset()\n",
    "        checkpointer.reset()\n",
    "    else:\n",
    "        checkpoint = checkpointer.load_progress()\n",
    "        if checkpoint:\n",
    "            start_generation = int(checkpoint[\"generation\"])\n",
    "            policy.load_state_dict(checkpoint[\"policy_state_dict\"])\n",
    "            value.load_state_dict(checkpoint[\"value_state_dict\"])\n",
    "            optimizer.load_state_dict(checkpoint[\"optimizer_state_dict\"])\n",
    "            if \"scaler_state_dict\" in checkpoint:\n",
    "                scaler.load_state_dict(checkpoint[\"scaler_state_dict\"])\n",
    "            print(\"CHECKPOINT FOUND, STARTING FROM GENERATION:\", start_generation)\n",
    "        else:\n",
    "            print(\"CHECKPOINT NOT FOUND, STARTING FROM SCRATCH\")\n",
    "\n",
    "    # Watches\n",
    "    short_watch = Stopwatch()\n",
    "    long_watch = Stopwatch()\n",
    "\n",
    "    if WORKERS > 1:\n",
    "        collector = MultiSyncDataCollector([create_env]*WORKERS, policy, \n",
    "            frames_per_batch=GENERATION_SIZE, \n",
    "            total_frames=timestamps - GENERATION_SIZE*start_generation, \n",
    "            env_device=\"cpu\", device=device, storing_device=STORAGE_DEVICE, \n",
    "            update_at_each_batch=True,\n",
    "        )\n",
    "    else:\n",
    "        collector = SyncDataCollector(\n",
    "            create_env, policy, \n",
    "            frames_per_batch=GENERATION_SIZE, \n",
    "            total_frames=timestamps - GENERATION_SIZE*start_generation, \n",
    "            env_device=\"cpu\", device=device, storing_device=STORAGE_DEVICE,\n",
    "        )\n",
    "    replay_buffer = ReplayBuffer(storage=LazyTensorStorage(GENERATION_SIZE, device=STORAGE_DEVICE), sampler=SamplerWithoutReplacement(), batch_size=MINIBATCH_SIZE)\n",
    "\n",
    "\n",
    "    ### TRAINING LOOP\n",
    "    short_watch.start(); long_watch.start()\n",
    "    policy.eval(); value.eval()\n",
    "    for i, tensordict_data in enumerate(collector):\n",
    "        # 0. Time collect\n",
    "        collection_time = short_watch.end()\n",
    "        logger.sum({\"collection_time\": collection_time})\n",
    "\n",
    "        # 1. Compute Advantages and Value Target and Metrics\n",
    "        tensordict_data = tensordict_data.to(device)\n",
    "        with torch.no_grad():\n",
    "            loss_module.value_estimator(tensordict_data)\n",
    "            metrics = compute_trajectory_metrics(tensordict_data)\n",
    "        logger.add(metrics)\n",
    "\n",
    "        # 2. Minibatch Gradient Descent Loop\n",
    "        short_watch.start()\n",
    "        policy.train(); value.train()\n",
    "        replay_buffer.empty(); replay_buffer.extend(tensordict_data.reshape(-1))\n",
    "        for epoch in range(EPOCHS):\n",
    "            for j, batch in enumerate(replay_buffer):\n",
    "                # 2.1 Optimization Step\n",
    "                batch = batch.to(device)\n",
    "                with torch.autocast(device_type=device_type, dtype=amp_dtype, enabled=(amp_dtype==torch.float16)):\n",
    "                    loss_data = loss_module(batch)\n",
    "                    loss = loss_data[\"loss_objective\"] + loss_data[\"loss_critic\"] + loss_data[\"loss_entropy\"]\n",
    "                optimizer.zero_grad(set_to_none=True)\n",
    "                scaler.scale(loss).backward()\n",
    "\n",
    "                scaler.unscale_(optimizer)\n",
    "                nn.utils.clip_grad_norm_(loss_module.parameters(), max_norm=MAX_GRAD_NORM)\n",
    "\n",
    "                scaler.step(optimizer)\n",
    "                scaler.update()\n",
    "\n",
    "                # 2.2 Accumulate Metric\n",
    "                weight = float(batch.batch_size[0])\n",
    "                logger.accumulate(loss_dict(loss_data, weight))\n",
    "        policy.eval(); value.eval()\n",
    "        train_time = short_watch.end()\n",
    "        logger.sum({\"train_time\": train_time})\n",
    "\n",
    "        # 3. Log results\n",
    "        logger.sum({\"generation\": 1})\n",
    "        if (i % LOG_INTERVAL) == 0:\n",
    "            logger.sum({\"time\": long_watch.end()})\n",
    "            long_watch.start()\n",
    "            logger.next(print_row=True)\n",
    "        # 4. Checkpoint model\n",
    "        if (i % CHECKPOINT_INTERVAL) == 0:\n",
    "            gen = int(start_generation + i + 1)\n",
    "            metric = metrics[METRIC_KEY]\n",
    "            checkpointer.save_progress(metric_key=METRIC_KEY,\n",
    "            state_obj={\n",
    "                \"generation\": gen,\n",
    "                \"policy_state_dict\": policy.state_dict(),\n",
    "                \"value_state_dict\": value.state_dict(),\n",
    "                \"optimizer_state_dict\": optimizer.state_dict(),\n",
    "                \"scaler_state_dict\": scaler.state_dict(),\n",
    "                METRIC_KEY: metric,\n",
    "            })\n",
    "\n",
    "        # 5. Start collection time\n",
    "        short_watch.start()\n",
    "\n",
    "    checkpointer.copy_model('latest', MODEL_PATH, ('policy_state_dict', 'value_state_dict'))\n",
    "    return logger.dataframe()"
   ]
  },
  {
   "cell_type": "code",
   "execution_count": null,
   "metadata": {},
   "outputs": [
    {
     "name": "stdout",
     "output_type": "stream",
     "text": [
      "[UnityMemory] Configuration Parameters - Can be set up in boot.config\n",
      "    \"memorysetup-bucket-allocator-granularity=16\"\n",
      "    \"memorysetup-bucket-allocator-bucket-count=8\"\n",
      "    \"memorysetup-bucket-allocator-block-size=4194304\"\n",
      "    \"memorysetup-bucket-allocator-block-count=1\"\n",
      "    \"memorysetup-main-allocator-block-size=16777216\"\n",
      "    \"memorysetup-thread-allocator-block-size=16777216\"\n",
      "    \"memorysetup-gfx-main-allocator-block-size=16777216\"\n",
      "    \"memorysetup-gfx-thread-allocator-block-size=16777216\"\n",
      "    \"memorysetup-cache-allocator-block-size=4194304\"\n",
      "    \"memorysetup-typetree-allocator-block-size=2097152\"\n",
      "    \"memorysetup-profiler-bucket-allocator-granularity=16\"\n",
      "    \"memorysetup-profiler-bucket-allocator-bucket-count=8\"\n",
      "    \"memorysetup-profiler-bucket-allocator-block-size=4194304\"\n",
      "    \"memorysetup-profiler-bucket-allocator-block-count=1\"\n",
      "    \"memorysetup-profiler-allocator-block-size=16777216\"\n",
      "    \"memorysetup-profiler-editor-allocator-block-size=1048576\"\n",
      "    \"memorysetup-temp-allocator-size-main=4194304\"\n",
      "    \"memorysetup-job-temp-allocator-block-size=2097152\"\n",
      "    \"memorysetup-job-temp-allocator-block-size-background=1048576\"\n",
      "    \"memorysetup-job-temp-allocator-reduction-small-platforms=262144\"\n",
      "    \"memorysetup-allocator-temp-initial-block-size-main=262144\"\n",
      "    \"memorysetup-allocator-temp-initial-block-size-worker=262144\"\n",
      "    \"memorysetup-temp-allocator-size-background-worker=32768\"\n",
      "    \"memorysetup-temp-allocator-size-job-worker=262144\"\n",
      "    \"memorysetup-temp-allocator-size-preload-manager=262144\"\n",
      "    \"memorysetup-temp-allocator-size-nav-mesh-worker=65536\"\n",
      "    \"memorysetup-temp-allocator-size-audio-worker=65536\"\n",
      "    \"memorysetup-temp-allocator-size-cloud-worker=32768\"\n",
      "    \"memorysetup-temp-allocator-size-gfx=262144\"\n",
      "Mono path[0] = '/Users/walimirza/unity-rl/envs/PushBlock.app/Contents/Resources/Data/Managed'\n",
      "Mono config path = '/Users/walimirza/unity-rl/envs/PushBlock.app/Contents/MonoBleedingEdge/etc'\n",
      "[Physics::Module] Initialized MultithreadedJobDispatcher with 13 workers.\n",
      "New input system (experimental) initialized\n",
      "Initialize engine version: 2023.2.13f1 (70197a359f36)\n",
      "[Subsystems] Discovering subsystems at path /Users/walimirza/unity-rl/envs/PushBlock.app/Contents/Resources/Data/UnitySubsystems\n",
      "Forcing GfxDevice: Null\n",
      "GfxDevice: creating device client; kGfxThreadingModeNonThreaded\n",
      "NullGfxDevice:\n",
      "    Version:  NULL 1.0 [1.0]\n",
      "    Renderer: Null Device\n",
      "    Vendor:   Unity Technologies\n",
      "Begin MonoManager ReloadAssembly\n",
      "icall.c:1842:\n",
      "icall.c:1842:\n",
      "icall.c:1842:\n",
      "icall.c:1842:\n",
      "icall.c:1842:\n",
      "icall.c:1842:\n",
      "icall.c:1842:\n",
      "icall.c:1842:\n",
      "icall.c:1842:\n",
      "- Loaded All Assemblies, in  0.048 seconds\n",
      "icall.c:1842:\n",
      "icall.c:1842:\n",
      "- Finished resetting the current domain, in  0.001 seconds\n",
      "ERROR: Shader Sprites/Default shader is not supported on this GPU (none of subshaders/fallbacks are suitable)\n",
      "ERROR: Shader Sprites/Mask shader is not supported on this GPU (none of subshaders/fallbacks are suitable)\n",
      "ERROR: Shader Legacy Shaders/VertexLit shader is not supported on this GPU (none of subshaders/fallbacks are suitable)\n",
      "WARNING: Shader Unsupported: 'Legacy Shaders/Diffuse' - All subshaders removed\n",
      "WARNING: Shader Did you use #pragma only_renderers and omit this platform?\n",
      "WARNING: Shader If subshaders removal was intentional, you may have forgotten turning Fallback off?\n",
      "ERROR: Shader Legacy Shaders/Diffuse shader is not supported on this GPU (none of subshaders/fallbacks are suitable)\n",
      "WARNING: Shader Unsupported: 'Legacy Shaders/Diffuse' - All subshaders removed\n",
      "WARNING: Shader Did you use #pragma only_renderers and omit this platform?\n",
      "WARNING: Shader If subshaders removal was intentional, you may have forgotten turning Fallback off?\n",
      "WARNING: Shader Unsupported: 'ML-Agents/GridPattern' - All subshaders removed\n",
      "WARNING: Shader Did you use #pragma only_renderers and omit this platform?\n",
      "WARNING: Shader If subshaders removal was intentional, you may have forgotten turning Fallback off?\n",
      "ERROR: Shader ML-Agents/GridPattern shader is not supported on this GPU (none of subshaders/fallbacks are suitable)\n",
      "WARNING: Shader Unsupported: 'ML-Agents/GridPattern' - All subshaders removed\n",
      "WARNING: Shader Did you use #pragma only_renderers and omit this platform?\n",
      "WARNING: Shader If subshaders removal was intentional, you may have forgotten turning Fallback off?\n",
      "WARNING: Shader Unsupported: 'Standard' - All subshaders removed\n",
      "WARNING: Shader Did you use #pragma only_renderers and omit this platform?\n",
      "WARNING: Shader If subshaders removal was intentional, you may have forgotten turning Fallback off?\n",
      "ERROR: Shader Standard shader is not supported on this GPU (none of subshaders/fallbacks are suitable)\n",
      "WARNING: Shader Unsupported: 'Standard' - All subshaders removed\n",
      "WARNING: Shader Did you use #pragma only_renderers and omit this platform?\n",
      "WARNING: Shader If subshaders removal was intentional, you may have forgotten turning Fallback off?\n",
      "WARNING: Shader Unsupported: 'Autodesk Interactive' - All subshaders removed\n",
      "WARNING: Shader Did you use #pragma only_renderers and omit this platform?\n",
      "WARNING: Shader If subshaders removal was intentional, you may have forgotten turning Fallback off?\n",
      "ERROR: Shader Autodesk Interactive shader is not supported on this GPU (none of subshaders/fallbacks are suitable)\n",
      "WARNING: Shader Unsupported: 'Autodesk Interactive' - All subshaders removed\n",
      "WARNING: Shader Did you use #pragma only_renderers and omit this platform?\n",
      "WARNING: Shader If subshaders removal was intentional, you may have forgotten turning Fallback off?\n",
      "UnloadTime: 0.346625 ms\n",
      "Registered Communicator in Agent.\n",
      "ERROR: Shader UI/Default shader is not supported on this GPU (none of subshaders/fallbacks are suitable)\n"
     ]
    },
    {
     "name": "stderr",
     "output_type": "stream",
     "text": [
      "/opt/homebrew/anaconda3/envs/mlagents3/lib/python3.10/site-packages/torchrl/envs/libs/unity_mlagents.py:373: DeprecationWarning: In future, it will be an error for 'np.bool' scalars to be interpreted as an index\n",
      "  source[group_name][agent_name][\"truncated\"] = torch.tensor(\n"
     ]
    },
    {
     "name": "stdout",
     "output_type": "stream",
     "text": [
      "   generation       time  collection_time  train_time    return  \\\n",
      "0           1  33.017256        26.817278     5.77802 -0.008357   \n",
      "\n",
      "   episode_length   entropy  policy_loss  kl_approx  clip_fraction       ESS  \\\n",
      "0      142.857147  1.834194     -0.06947    0.00798       0.192314  0.977513   \n",
      "\n",
      "   value_loss  explained_variance  \n",
      "0    0.017854            0.468456  \n"
     ]
    },
    {
     "name": "stderr",
     "output_type": "stream",
     "text": [
      "/opt/homebrew/anaconda3/envs/mlagents3/lib/python3.10/site-packages/torchrl/envs/libs/unity_mlagents.py:373: DeprecationWarning: In future, it will be an error for 'np.bool' scalars to be interpreted as an index\n",
      "  source[group_name][agent_name][\"truncated\"] = torch.tensor(\n"
     ]
    },
    {
     "name": "stdout",
     "output_type": "stream",
     "text": [
      "   generation       time  collection_time  train_time  return  episode_length  \\\n",
      "1           2  66.291761        54.022332   11.472997 -0.1245           125.0   \n",
      "\n",
      "    entropy  policy_loss  kl_approx  clip_fraction       ESS  value_loss  \\\n",
      "1  1.805482    -0.026504   0.010116       0.205763  0.976435    0.001226   \n",
      "\n",
      "   explained_variance  \n",
      "1             0.51003  \n"
     ]
    },
    {
     "name": "stderr",
     "output_type": "stream",
     "text": [
      "/opt/homebrew/anaconda3/envs/mlagents3/lib/python3.10/site-packages/torchrl/envs/libs/unity_mlagents.py:373: DeprecationWarning: In future, it will be an error for 'np.bool' scalars to be interpreted as an index\n",
      "  source[group_name][agent_name][\"truncated\"] = torch.tensor(\n"
     ]
    },
    {
     "name": "stdout",
     "output_type": "stream",
     "text": [
      "   generation       time  collection_time  train_time    return  \\\n",
      "2           3  99.523081        80.879445   17.482866 -0.093194   \n",
      "\n",
      "   episode_length   entropy  policy_loss  kl_approx  clip_fraction       ESS  \\\n",
      "2      111.111115  1.762078    -0.019129   0.006962        0.13982  0.980568   \n",
      "\n",
      "   value_loss  explained_variance  \n",
      "2    0.002175            0.207497  \n"
     ]
    },
    {
     "name": "stderr",
     "output_type": "stream",
     "text": [
      "/opt/homebrew/anaconda3/envs/mlagents3/lib/python3.10/site-packages/torchrl/envs/libs/unity_mlagents.py:373: DeprecationWarning: In future, it will be an error for 'np.bool' scalars to be interpreted as an index\n",
      "  source[group_name][agent_name][\"truncated\"] = torch.tensor(\n"
     ]
    },
    {
     "name": "stdout",
     "output_type": "stream",
     "text": [
      "   generation        time  collection_time  train_time    return  \\\n",
      "3           4  133.129989       108.273188   23.298253 -0.093306   \n",
      "\n",
      "   episode_length  entropy  policy_loss  kl_approx  clip_fraction       ESS  \\\n",
      "3      111.111115  1.70426    -0.011693   0.007225       0.149762  0.980684   \n",
      "\n",
      "   value_loss  explained_variance  \n",
      "3    0.000974           -2.569031  \n"
     ]
    },
    {
     "name": "stderr",
     "output_type": "stream",
     "text": [
      "/opt/homebrew/anaconda3/envs/mlagents3/lib/python3.10/site-packages/torchrl/envs/libs/unity_mlagents.py:373: DeprecationWarning: In future, it will be an error for 'np.bool' scalars to be interpreted as an index\n",
      "  source[group_name][agent_name][\"truncated\"] = torch.tensor(\n"
     ]
    },
    {
     "name": "stdout",
     "output_type": "stream",
     "text": [
      "   generation        time  collection_time  train_time    return  \\\n",
      "4           5  166.529815       135.395353   29.170462 -0.061955   \n",
      "\n",
      "   episode_length   entropy  policy_loss  kl_approx  clip_fraction       ESS  \\\n",
      "4       90.909088  1.611868    -0.010504   0.004648       0.075253  0.987625   \n",
      "\n",
      "   value_loss  explained_variance  \n",
      "4    0.002821          -16.457839  \n"
     ]
    },
    {
     "name": "stderr",
     "output_type": "stream",
     "text": [
      "/opt/homebrew/anaconda3/envs/mlagents3/lib/python3.10/site-packages/torchrl/envs/libs/unity_mlagents.py:373: DeprecationWarning: In future, it will be an error for 'np.bool' scalars to be interpreted as an index\n",
      "  source[group_name][agent_name][\"truncated\"] = torch.tensor(\n"
     ]
    },
    {
     "name": "stdout",
     "output_type": "stream",
     "text": [
      "   generation        time  collection_time  train_time   return  \\\n",
      "5           6  199.915061       162.599241   34.970381 -0.07625   \n",
      "\n",
      "   episode_length   entropy  policy_loss  kl_approx  clip_fraction       ESS  \\\n",
      "5       90.909088  1.518625    -0.005004   0.002596       0.029761  0.991829   \n",
      "\n",
      "   value_loss  explained_variance  \n",
      "5    0.000854          -15.695455  \n"
     ]
    },
    {
     "name": "stderr",
     "output_type": "stream",
     "text": [
      "/opt/homebrew/anaconda3/envs/mlagents3/lib/python3.10/site-packages/torchrl/envs/libs/unity_mlagents.py:373: DeprecationWarning: In future, it will be an error for 'np.bool' scalars to be interpreted as an index\n",
      "  source[group_name][agent_name][\"truncated\"] = torch.tensor(\n"
     ]
    },
    {
     "name": "stdout",
     "output_type": "stream",
     "text": [
      "   generation        time  collection_time  train_time    return  \\\n",
      "6           7  233.623949       189.926122   40.952593 -0.069896   \n",
      "\n",
      "   episode_length   entropy  policy_loss  kl_approx  clip_fraction       ESS  \\\n",
      "6       83.333336  1.488182    -0.005386   0.002723       0.032006  0.990969   \n",
      "\n",
      "   value_loss  explained_variance  \n",
      "6    0.001027          -22.457264  \n"
     ]
    },
    {
     "name": "stderr",
     "output_type": "stream",
     "text": [
      "/opt/homebrew/anaconda3/envs/mlagents3/lib/python3.10/site-packages/torchrl/envs/libs/unity_mlagents.py:373: DeprecationWarning: In future, it will be an error for 'np.bool' scalars to be interpreted as an index\n",
      "  source[group_name][agent_name][\"truncated\"] = torch.tensor(\n"
     ]
    },
    {
     "name": "stdout",
     "output_type": "stream",
     "text": [
      "   generation      time  collection_time  train_time    return  \\\n",
      "7           8  267.6825       217.411855   47.112897 -0.034883   \n",
      "\n",
      "   episode_length   entropy  policy_loss  kl_approx  clip_fraction       ESS  \\\n",
      "7       66.666664  1.502421    -0.009636   0.012572       0.172488  0.976182   \n",
      "\n",
      "   value_loss  explained_variance  \n",
      "7    0.004921          -45.400715  \n"
     ]
    },
    {
     "name": "stderr",
     "output_type": "stream",
     "text": [
      "/opt/homebrew/anaconda3/envs/mlagents3/lib/python3.10/site-packages/torchrl/envs/libs/unity_mlagents.py:373: DeprecationWarning: In future, it will be an error for 'np.bool' scalars to be interpreted as an index\n",
      "  source[group_name][agent_name][\"truncated\"] = torch.tensor(\n"
     ]
    },
    {
     "name": "stdout",
     "output_type": "stream",
     "text": [
      "   generation        time  collection_time  train_time    return  \\\n",
      "8           9  301.248565       244.546921   53.126106 -0.021412   \n",
      "\n",
      "   episode_length   entropy  policy_loss  kl_approx  clip_fraction       ESS  \\\n",
      "8       58.823528  1.426739    -0.012013   0.009162       0.130182  0.982485   \n",
      "\n",
      "   value_loss  explained_variance  \n",
      "8    0.004239          -15.351177  \n"
     ]
    },
    {
     "name": "stderr",
     "output_type": "stream",
     "text": [
      "/opt/homebrew/anaconda3/envs/mlagents3/lib/python3.10/site-packages/torchrl/envs/libs/unity_mlagents.py:373: DeprecationWarning: In future, it will be an error for 'np.bool' scalars to be interpreted as an index\n",
      "  source[group_name][agent_name][\"truncated\"] = torch.tensor(\n"
     ]
    },
    {
     "name": "stdout",
     "output_type": "stream",
     "text": [
      "   generation        time  collection_time  train_time   return  \\\n",
      "9          10  334.708977       271.627047   59.113414 -0.01815   \n",
      "\n",
      "   episode_length   entropy  policy_loss  kl_approx  clip_fraction       ESS  \\\n",
      "9            50.0  1.412719    -0.012051   0.015568       0.215119  0.972063   \n",
      "\n",
      "   value_loss  explained_variance  \n",
      "9    0.005641            -8.81275  \n"
     ]
    },
    {
     "name": "stderr",
     "output_type": "stream",
     "text": [
      "/opt/homebrew/anaconda3/envs/mlagents3/lib/python3.10/site-packages/torchrl/envs/libs/unity_mlagents.py:373: DeprecationWarning: In future, it will be an error for 'np.bool' scalars to be interpreted as an index\n",
      "  source[group_name][agent_name][\"truncated\"] = torch.tensor(\n"
     ]
    },
    {
     "name": "stdout",
     "output_type": "stream",
     "text": [
      "    generation        time  collection_time  train_time    return  \\\n",
      "10          11  368.586491       298.932061   65.291115 -0.027329   \n",
      "\n",
      "    episode_length   entropy  policy_loss  kl_approx  clip_fraction       ESS  \\\n",
      "10        52.63158  1.248344    -0.006142   0.007986       0.085767  0.987709   \n",
      "\n",
      "    value_loss  explained_variance  \n",
      "10    0.001047           -4.572028  \n"
     ]
    },
    {
     "name": "stderr",
     "output_type": "stream",
     "text": [
      "/opt/homebrew/anaconda3/envs/mlagents3/lib/python3.10/site-packages/torchrl/envs/libs/unity_mlagents.py:373: DeprecationWarning: In future, it will be an error for 'np.bool' scalars to be interpreted as an index\n",
      "  source[group_name][agent_name][\"truncated\"] = torch.tensor(\n"
     ]
    },
    {
     "name": "stdout",
     "output_type": "stream",
     "text": [
      "    generation       time  collection_time  train_time    return  \\\n",
      "11          12  402.31616       326.000834   71.561656 -0.009398   \n",
      "\n",
      "    episode_length   entropy  policy_loss  kl_approx  clip_fraction       ESS  \\\n",
      "11       45.454544  1.277289    -0.009994     0.0153       0.182357  0.963812   \n",
      "\n",
      "    value_loss  explained_variance  \n",
      "11    0.003643           -8.782248  \n"
     ]
    },
    {
     "name": "stderr",
     "output_type": "stream",
     "text": [
      "/opt/homebrew/anaconda3/envs/mlagents3/lib/python3.10/site-packages/torchrl/envs/libs/unity_mlagents.py:373: DeprecationWarning: In future, it will be an error for 'np.bool' scalars to be interpreted as an index\n",
      "  source[group_name][agent_name][\"truncated\"] = torch.tensor(\n"
     ]
    },
    {
     "name": "stdout",
     "output_type": "stream",
     "text": [
      "    generation        time  collection_time  train_time    return  \\\n",
      "12          13  435.826243       353.014132   77.669575 -0.013846   \n",
      "\n",
      "    episode_length   entropy  policy_loss  kl_approx  clip_fraction       ESS  \\\n",
      "12        38.46154  1.348043    -0.008302   0.018454       0.243874  0.965207   \n",
      "\n",
      "    value_loss  explained_variance  \n",
      "12    0.004161           -5.330587  \n"
     ]
    },
    {
     "name": "stderr",
     "output_type": "stream",
     "text": [
      "/opt/homebrew/anaconda3/envs/mlagents3/lib/python3.10/site-packages/torchrl/envs/libs/unity_mlagents.py:373: DeprecationWarning: In future, it will be an error for 'np.bool' scalars to be interpreted as an index\n",
      "  source[group_name][agent_name][\"truncated\"] = torch.tensor(\n"
     ]
    },
    {
     "name": "stdout",
     "output_type": "stream",
     "text": [
      "    generation        time  collection_time  train_time   return  \\\n",
      "13          14  471.416288       380.598058   85.154713 -0.01448   \n",
      "\n",
      "    episode_length   entropy  policy_loss  kl_approx  clip_fraction       ESS  \\\n",
      "13            40.0  1.229066    -0.007296   0.018295       0.234439  0.967936   \n",
      "\n",
      "    value_loss  explained_variance  \n",
      "13    0.006141          -16.856128  \n"
     ]
    },
    {
     "name": "stderr",
     "output_type": "stream",
     "text": [
      "/opt/homebrew/anaconda3/envs/mlagents3/lib/python3.10/site-packages/torchrl/envs/libs/unity_mlagents.py:373: DeprecationWarning: In future, it will be an error for 'np.bool' scalars to be interpreted as an index\n",
      "  source[group_name][agent_name][\"truncated\"] = torch.tensor(\n"
     ]
    },
    {
     "name": "stdout",
     "output_type": "stream",
     "text": [
      "    generation        time  collection_time  train_time    return  \\\n",
      "14          15  506.674451       409.181889   91.401783 -0.001661   \n",
      "\n",
      "    episode_length   entropy  policy_loss  kl_approx  clip_fraction       ESS  \\\n",
      "14       35.714287  1.138695    -0.011373   0.013953       0.154618  0.973697   \n",
      "\n",
      "    value_loss  explained_variance  \n",
      "14    0.006176           -3.929789  \n"
     ]
    },
    {
     "name": "stderr",
     "output_type": "stream",
     "text": [
      "/opt/homebrew/anaconda3/envs/mlagents3/lib/python3.10/site-packages/torchrl/envs/libs/unity_mlagents.py:373: DeprecationWarning: In future, it will be an error for 'np.bool' scalars to be interpreted as an index\n",
      "  source[group_name][agent_name][\"truncated\"] = torch.tensor(\n"
     ]
    },
    {
     "name": "stdout",
     "output_type": "stream",
     "text": [
      "    generation        time  collection_time  train_time    return  \\\n",
      "15          16  541.532628        437.01908   97.970811  0.014664   \n",
      "\n",
      "    episode_length  entropy  policy_loss  kl_approx  clip_fraction       ESS  \\\n",
      "15       34.482758  1.11896    -0.008781   0.015029       0.173321  0.973254   \n",
      "\n",
      "    value_loss  explained_variance  \n",
      "15    0.009906           -11.73376  \n"
     ]
    },
    {
     "name": "stderr",
     "output_type": "stream",
     "text": [
      "/opt/homebrew/anaconda3/envs/mlagents3/lib/python3.10/site-packages/torchrl/envs/libs/unity_mlagents.py:373: DeprecationWarning: In future, it will be an error for 'np.bool' scalars to be interpreted as an index\n",
      "  source[group_name][agent_name][\"truncated\"] = torch.tensor(\n"
     ]
    },
    {
     "name": "stdout",
     "output_type": "stream",
     "text": [
      "    generation        time  collection_time  train_time    return  \\\n",
      "16          17  576.951212       465.466618  104.479622  0.017742   \n",
      "\n",
      "    episode_length  entropy  policy_loss  kl_approx  clip_fraction       ESS  \\\n",
      "16        30.30303  1.24025     -0.00593   0.020724       0.190583  0.956487   \n",
      "\n",
      "    value_loss  explained_variance  \n",
      "16     0.01133           -1.583725  \n"
     ]
    },
    {
     "name": "stderr",
     "output_type": "stream",
     "text": [
      "/opt/homebrew/anaconda3/envs/mlagents3/lib/python3.10/site-packages/torchrl/envs/libs/unity_mlagents.py:373: DeprecationWarning: In future, it will be an error for 'np.bool' scalars to be interpreted as an index\n",
      "  source[group_name][agent_name][\"truncated\"] = torch.tensor(\n"
     ]
    },
    {
     "name": "stdout",
     "output_type": "stream",
     "text": [
      "    generation        time  collection_time  train_time    return  \\\n",
      "17          18  612.117842       493.370473  111.222173  0.041055   \n",
      "\n",
      "    episode_length   entropy  policy_loss  kl_approx  clip_fraction      ESS  \\\n",
      "17       24.390244  1.349433    -0.023668   0.017501       0.231385  0.96311   \n",
      "\n",
      "    value_loss  explained_variance  \n",
      "17    0.013703           -1.670021  \n"
     ]
    },
    {
     "name": "stderr",
     "output_type": "stream",
     "text": [
      "/opt/homebrew/anaconda3/envs/mlagents3/lib/python3.10/site-packages/torchrl/envs/libs/unity_mlagents.py:373: DeprecationWarning: In future, it will be an error for 'np.bool' scalars to be interpreted as an index\n",
      "  source[group_name][agent_name][\"truncated\"] = torch.tensor(\n"
     ]
    },
    {
     "name": "stdout",
     "output_type": "stream",
     "text": [
      "    generation       time  collection_time  train_time    return  \\\n",
      "18          19  647.25739       521.212733  118.046576  0.019173   \n",
      "\n",
      "    episode_length   entropy  policy_loss  kl_approx  clip_fraction       ESS  \\\n",
      "18       25.641026  1.356445     -0.00776   0.018412       0.204985  0.966145   \n",
      "\n",
      "    value_loss  explained_variance  \n",
      "18    0.013415           -2.293791  \n"
     ]
    },
    {
     "name": "stderr",
     "output_type": "stream",
     "text": [
      "/opt/homebrew/anaconda3/envs/mlagents3/lib/python3.10/site-packages/torchrl/envs/libs/unity_mlagents.py:373: DeprecationWarning: In future, it will be an error for 'np.bool' scalars to be interpreted as an index\n",
      "  source[group_name][agent_name][\"truncated\"] = torch.tensor(\n"
     ]
    },
    {
     "name": "stdout",
     "output_type": "stream",
     "text": [
      "    generation        time  collection_time  train_time    return  \\\n",
      "19          20  683.362172        549.91476  124.989061  0.036745   \n",
      "\n",
      "    episode_length   entropy  policy_loss  kl_approx  clip_fraction       ESS  \\\n",
      "19        21.73913  1.412297    -0.027452   0.014961       0.226914  0.965629   \n",
      "\n",
      "    value_loss  explained_variance  \n",
      "19    0.017189           -1.678661  \n"
     ]
    },
    {
     "name": "stderr",
     "output_type": "stream",
     "text": [
      "/opt/homebrew/anaconda3/envs/mlagents3/lib/python3.10/site-packages/torchrl/envs/libs/unity_mlagents.py:373: DeprecationWarning: In future, it will be an error for 'np.bool' scalars to be interpreted as an index\n",
      "  source[group_name][agent_name][\"truncated\"] = torch.tensor(\n"
     ]
    },
    {
     "name": "stdout",
     "output_type": "stream",
     "text": [
      "    generation        time  collection_time  train_time    return  \\\n",
      "20          21  718.434459       578.000895  131.532437  0.059702   \n",
      "\n",
      "    episode_length   entropy  policy_loss  kl_approx  clip_fraction       ESS  \\\n",
      "20        19.23077  1.411976    -0.041362   0.017876       0.283335  0.957919   \n",
      "\n",
      "    value_loss  explained_variance  \n",
      "20    0.025923           -0.928199  \n"
     ]
    },
    {
     "name": "stderr",
     "output_type": "stream",
     "text": [
      "/opt/homebrew/anaconda3/envs/mlagents3/lib/python3.10/site-packages/torchrl/envs/libs/unity_mlagents.py:373: DeprecationWarning: In future, it will be an error for 'np.bool' scalars to be interpreted as an index\n",
      "  source[group_name][agent_name][\"truncated\"] = torch.tensor(\n"
     ]
    },
    {
     "name": "stdout",
     "output_type": "stream",
     "text": [
      "    generation        time  collection_time  train_time    return  \\\n",
      "21          22  755.467566        606.70544  139.339741  0.053692   \n",
      "\n",
      "    episode_length   entropy  policy_loss  kl_approx  clip_fraction       ESS  \\\n",
      "21        19.23077  1.355404    -0.023524   0.020948       0.249776  0.961413   \n",
      "\n",
      "    value_loss  explained_variance  \n",
      "21    0.027915           -0.213301  \n"
     ]
    },
    {
     "name": "stderr",
     "output_type": "stream",
     "text": [
      "/opt/homebrew/anaconda3/envs/mlagents3/lib/python3.10/site-packages/torchrl/envs/libs/unity_mlagents.py:373: DeprecationWarning: In future, it will be an error for 'np.bool' scalars to be interpreted as an index\n",
      "  source[group_name][agent_name][\"truncated\"] = torch.tensor(\n"
     ]
    }
   ],
   "source": [
    "policy = create_policy(MODEL_CONFIG).to(device)\n",
    "value = create_value(MODEL_CONFIG).to(device)\n",
    "\n",
    "train(lambda: create_env(time_scale=TIME_SCALE), policy, value, timestamps=TIMESTAMPS)"
   ]
  },
  {
   "cell_type": "markdown",
   "metadata": {},
   "source": [
    "## **Test**"
   ]
  },
  {
   "cell_type": "code",
   "execution_count": 4,
   "metadata": {},
   "outputs": [
    {
     "data": {
      "image/png": "[encoded data removed]",
      "text/plain": [
       "<Figure size 1500x700 with 12 Axes>"
      ]
     },
     "metadata": {},
     "output_type": "display_data"
    }
   ],
   "source": [
    "plot(NAME)"
   ]
  },
  {
   "cell_type": "code",
   "execution_count": 52,
   "metadata": {},
   "outputs": [],
   "source": [
    "policy = create_policy(MODEL_CONFIG).to(device)\n",
    "load_model(MODEL_PATH, NAME, policy, None)"
   ]
  },
  {
   "cell_type": "code",
   "execution_count": 55,
   "metadata": {},
   "outputs": [
    {
     "name": "stdout",
     "output_type": "stream",
     "text": [
      "[UnityMemory] Configuration Parameters - Can be set up in boot.config\n",
      "    \"memorysetup-bucket-allocator-granularity=16\"\n",
      "    \"memorysetup-bucket-allocator-bucket-count=8\"\n",
      "    \"memorysetup-bucket-allocator-block-size=4194304\"\n",
      "    \"memorysetup-bucket-allocator-block-count=1\"\n",
      "    \"memorysetup-main-allocator-block-size=16777216\"\n",
      "    \"memorysetup-thread-allocator-block-size=16777216\"\n",
      "    \"memorysetup-gfx-main-allocator-block-size=16777216\"\n",
      "    \"memorysetup-gfx-thread-allocator-block-size=16777216\"\n",
      "    \"memorysetup-cache-allocator-block-size=4194304\"\n",
      "    \"memorysetup-typetree-allocator-block-size=2097152\"\n",
      "    \"memorysetup-profiler-bucket-allocator-granularity=16\"\n",
      "    \"memorysetup-profiler-bucket-allocator-bucket-count=8\"\n",
      "    \"memorysetup-profiler-bucket-allocator-block-size=4194304\"\n",
      "    \"memorysetup-profiler-bucket-allocator-block-count=1\"\n",
      "    \"memorysetup-profiler-allocator-block-size=16777216\"\n",
      "    \"memorysetup-profiler-editor-allocator-block-size=1048576\"\n",
      "    \"memorysetup-temp-allocator-size-main=4194304\"\n",
      "    \"memorysetup-job-temp-allocator-block-size=2097152\"\n",
      "    \"memorysetup-job-temp-allocator-block-size-background=1048576\"\n",
      "    \"memorysetup-job-temp-allocator-reduction-small-platforms=262144\"\n",
      "    \"memorysetup-allocator-temp-initial-block-size-main=262144\"\n",
      "    \"memorysetup-allocator-temp-initial-block-size-worker=262144\"\n",
      "    \"memorysetup-temp-allocator-size-background-worker=32768\"\n",
      "    \"memorysetup-temp-allocator-size-job-worker=262144\"\n",
      "    \"memorysetup-temp-allocator-size-preload-manager=262144\"\n",
      "    \"memorysetup-temp-allocator-size-nav-mesh-worker=65536\"\n",
      "    \"memorysetup-temp-allocator-size-audio-worker=65536\"\n",
      "    \"memorysetup-temp-allocator-size-cloud-worker=32768\"\n",
      "    \"memorysetup-temp-allocator-size-gfx=262144\"\n"
     ]
    },
    {
     "ename": "TypeError",
     "evalue": "Can't instantiate abstract class FakeResetWrapper with abstract methods _build_env, _check_kwargs, _init_env, _make_specs, _set_seed, _step",
     "output_type": "error",
     "traceback": [
      "\u001b[0;31m---------------------------------------------------------------------------\u001b[0m",
      "\u001b[0;31mTypeError\u001b[0m                                 Traceback (most recent call last)",
      "Cell \u001b[0;32mIn[55], line 1\u001b[0m\n\u001b[0;32m----> 1\u001b[0m env \u001b[38;5;241m=\u001b[39m \u001b[43mcreate_env\u001b[49m\u001b[43m(\u001b[49m\u001b[43mgraphics\u001b[49m\u001b[38;5;241;43m=\u001b[39;49m\u001b[38;5;28;43;01mTrue\u001b[39;49;00m\u001b[43m)\u001b[49m\n\u001b[1;32m      3\u001b[0m tensordict_data \u001b[38;5;241m=\u001b[39m \u001b[38;5;28;01mNone\u001b[39;00m\n\u001b[1;32m      4\u001b[0m \u001b[38;5;28;01mwith\u001b[39;00m torch\u001b[38;5;241m.\u001b[39mno_grad():\n",
      "Cell \u001b[0;32mIn[54], line 72\u001b[0m, in \u001b[0;36mcreate_env\u001b[0;34m(graphics, time_scale, **kwargs)\u001b[0m\n\u001b[1;32m     69\u001b[0m \u001b[38;5;28;01melse\u001b[39;00m:\n\u001b[1;32m     70\u001b[0m     env \u001b[38;5;241m=\u001b[39m create_base_env(graphics, \u001b[38;5;241m*\u001b[39m\u001b[38;5;241m*\u001b[39mkwargs)\n\u001b[0;32m---> 72\u001b[0m \u001b[38;5;28;01mreturn\u001b[39;00m \u001b[43mFakeResetWrapper\u001b[49m\u001b[43m(\u001b[49m\u001b[43menv\u001b[49m\u001b[43m)\u001b[49m\n",
      "File \u001b[0;32m/opt/homebrew/anaconda3/envs/mlagents3/lib/python3.10/site-packages/torchrl/envs/common.py:261\u001b[0m, in \u001b[0;36m_EnvPostInit.__call__\u001b[0;34m(cls, *args, **kwargs)\u001b[0m\n\u001b[1;32m    259\u001b[0m auto_reset \u001b[38;5;241m=\u001b[39m kwargs\u001b[38;5;241m.\u001b[39mpop(\u001b[38;5;124m\"\u001b[39m\u001b[38;5;124mauto_reset\u001b[39m\u001b[38;5;124m\"\u001b[39m, \u001b[38;5;28;01mFalse\u001b[39;00m)\n\u001b[1;32m    260\u001b[0m auto_reset_replace \u001b[38;5;241m=\u001b[39m kwargs\u001b[38;5;241m.\u001b[39mpop(\u001b[38;5;124m\"\u001b[39m\u001b[38;5;124mauto_reset_replace\u001b[39m\u001b[38;5;124m\"\u001b[39m, \u001b[38;5;28;01mTrue\u001b[39;00m)\n\u001b[0;32m--> 261\u001b[0m instance: EnvBase \u001b[38;5;241m=\u001b[39m \u001b[38;5;28;43msuper\u001b[39;49m\u001b[43m(\u001b[49m\u001b[43m)\u001b[49m\u001b[38;5;241;43m.\u001b[39;49m\u001b[38;5;21;43m__call__\u001b[39;49m\u001b[43m(\u001b[49m\u001b[38;5;241;43m*\u001b[39;49m\u001b[43margs\u001b[49m\u001b[43m,\u001b[49m\u001b[43m \u001b[49m\u001b[38;5;241;43m*\u001b[39;49m\u001b[38;5;241;43m*\u001b[39;49m\u001b[43mkwargs\u001b[49m\u001b[43m)\u001b[49m\n\u001b[1;32m    262\u001b[0m \u001b[38;5;28;01mif\u001b[39;00m \u001b[38;5;124m\"\u001b[39m\u001b[38;5;124m_cache\u001b[39m\u001b[38;5;124m\"\u001b[39m \u001b[38;5;129;01mnot\u001b[39;00m \u001b[38;5;129;01min\u001b[39;00m instance\u001b[38;5;241m.\u001b[39m\u001b[38;5;18m__dict__\u001b[39m:\n\u001b[1;32m    263\u001b[0m     instance\u001b[38;5;241m.\u001b[39m_cache \u001b[38;5;241m=\u001b[39m {}\n",
      "File \u001b[0;32m/opt/homebrew/anaconda3/envs/mlagents3/lib/python3.10/site-packages/torchrl/envs/common.py:776\u001b[0m, in \u001b[0;36mEnvBase.__new__\u001b[0;34m(cls, _inplace_update, _batch_locked, *args, **kwargs)\u001b[0m\n\u001b[1;32m    774\u001b[0m     _output_spec \u001b[38;5;241m=\u001b[39m \u001b[38;5;28mcls\u001b[39m\u001b[38;5;241m.\u001b[39m_output_spec\u001b[38;5;241m.\u001b[39mclone()\n\u001b[1;32m    775\u001b[0m     \u001b[38;5;28mdelattr\u001b[39m(\u001b[38;5;28mcls\u001b[39m, \u001b[38;5;124m\"\u001b[39m\u001b[38;5;124m_output_spec\u001b[39m\u001b[38;5;124m\"\u001b[39m)\n\u001b[0;32m--> 776\u001b[0m env \u001b[38;5;241m=\u001b[39m \u001b[38;5;28;43msuper\u001b[39;49m\u001b[43m(\u001b[49m\u001b[43m)\u001b[49m\u001b[38;5;241;43m.\u001b[39;49m\u001b[38;5;21;43m__new__\u001b[39;49m\u001b[43m(\u001b[49m\u001b[38;5;28;43mcls\u001b[39;49m\u001b[43m)\u001b[49m\n\u001b[1;32m    777\u001b[0m \u001b[38;5;28;01mif\u001b[39;00m _input_spec \u001b[38;5;129;01mis\u001b[39;00m \u001b[38;5;129;01mnot\u001b[39;00m \u001b[38;5;28;01mNone\u001b[39;00m:\n\u001b[1;32m    778\u001b[0m     env\u001b[38;5;241m.\u001b[39m\u001b[38;5;18m__dict__\u001b[39m[\u001b[38;5;124m\"\u001b[39m\u001b[38;5;124m_input_spec\u001b[39m\u001b[38;5;124m\"\u001b[39m] \u001b[38;5;241m=\u001b[39m _input_spec\n",
      "\u001b[0;31mTypeError\u001b[0m: Can't instantiate abstract class FakeResetWrapper with abstract methods _build_env, _check_kwargs, _init_env, _make_specs, _set_seed, _step"
     ]
    }
   ],
   "source": [
    "env = create_env(graphics=True)\n",
    "\n",
    "tensordict_data = None\n",
    "with torch.no_grad():\n",
    "    tensordict_data = env.rollout(1000, policy=policy, auto_cast_to_device=True).to(device)\n",
    "    env.close()\n",
    "    metrics = compute_single_trajectory_metrics(tensordict_data)\n",
    "\n",
    "metrics"
   ]
  },
  {
   "cell_type": "code",
   "execution_count": 34,
   "metadata": {},
   "outputs": [
    {
     "data": {
      "text/plain": [
       "TensorDict(\n",
       "    fields={\n",
       "        agents: LazyStackedTensorDict(\n",
       "            fields={\n",
       "                StackingSensor_size3_OffsetRayPerceptionSensor: Tensor(shape=torch.Size([1000, 32, 105]), device=cpu, dtype=torch.float32, is_shared=False),\n",
       "                StackingSensor_size3_RayPerceptionSensor: Tensor(shape=torch.Size([1000, 32, 105]), device=cpu, dtype=torch.float32, is_shared=False),\n",
       "                discrete_action: Tensor(shape=torch.Size([1000, 32, 7]), device=cpu, dtype=torch.float32, is_shared=False),\n",
       "                done: Tensor(shape=torch.Size([1000, 32, 1]), device=cpu, dtype=torch.bool, is_shared=False),\n",
       "                log_prob: Tensor(shape=torch.Size([1000, 32]), device=cpu, dtype=torch.float32, is_shared=False),\n",
       "                logits: Tensor(shape=torch.Size([1000, 32, 7]), device=cpu, dtype=torch.float32, is_shared=False),\n",
       "                observation: Tensor(shape=torch.Size([1000, 32, 210]), device=cpu, dtype=torch.float32, is_shared=False),\n",
       "                terminated: Tensor(shape=torch.Size([1000, 32, 1]), device=cpu, dtype=torch.bool, is_shared=False),\n",
       "                truncated: Tensor(shape=torch.Size([1000, 32, 1]), device=cpu, dtype=torch.bool, is_shared=False)},\n",
       "            exclusive_fields={\n",
       "                14 ->\n",
       "                    _neg_step: Tensor(shape=torch.Size([32, 1]), device=cpu, dtype=torch.bool, is_shared=False),\n",
       "                23 ->\n",
       "                    _neg_step: Tensor(shape=torch.Size([32, 1]), device=cpu, dtype=torch.bool, is_shared=False),\n",
       "                33 ->\n",
       "                    _neg_step: Tensor(shape=torch.Size([32, 1]), device=cpu, dtype=torch.bool, is_shared=False)},\n",
       "            batch_size=torch.Size([1000, 32]),\n",
       "            device=cpu,\n",
       "            is_shared=False,\n",
       "            stack_dim=0),\n",
       "        next: TensorDict(\n",
       "            fields={\n",
       "                agents: TensorDict(\n",
       "                    fields={\n",
       "                        StackingSensor_size3_OffsetRayPerceptionSensor: Tensor(shape=torch.Size([1000, 32, 105]), device=cpu, dtype=torch.float32, is_shared=False),\n",
       "                        StackingSensor_size3_RayPerceptionSensor: Tensor(shape=torch.Size([1000, 32, 105]), device=cpu, dtype=torch.float32, is_shared=False),\n",
       "                        done: Tensor(shape=torch.Size([1000, 32, 1]), device=cpu, dtype=torch.bool, is_shared=False),\n",
       "                        observation: Tensor(shape=torch.Size([1000, 32, 210]), device=cpu, dtype=torch.float32, is_shared=False),\n",
       "                        reward: Tensor(shape=torch.Size([1000, 32, 1]), device=cpu, dtype=torch.float32, is_shared=False),\n",
       "                        terminated: Tensor(shape=torch.Size([1000, 32, 1]), device=cpu, dtype=torch.bool, is_shared=False),\n",
       "                        truncated: Tensor(shape=torch.Size([1000, 32, 1]), device=cpu, dtype=torch.bool, is_shared=False)},\n",
       "                    batch_size=torch.Size([1000, 32]),\n",
       "                    device=cpu,\n",
       "                    is_shared=False),\n",
       "                done: Tensor(shape=torch.Size([1000]), device=cpu, dtype=torch.bool, is_shared=False)},\n",
       "            batch_size=torch.Size([1000]),\n",
       "            device=cpu,\n",
       "            is_shared=False)},\n",
       "    batch_size=torch.Size([1000]),\n",
       "    device=cpu,\n",
       "    is_shared=False)"
      ]
     },
     "execution_count": 34,
     "metadata": {},
     "output_type": "execute_result"
    }
   ],
   "source": [
    "tensordict_data"
   ]
  },
  {
   "cell_type": "code",
   "execution_count": 36,
   "metadata": {},
   "outputs": [
    {
     "data": {
      "text/plain": [
       "tensor(3)"
      ]
     },
     "execution_count": 36,
     "metadata": {},
     "output_type": "execute_result"
    }
   ],
   "source": [
    "tensordict_data[\"next\", \"agents\", \"done\"].sum()"
   ]
  },
  {
   "cell_type": "code",
   "execution_count": null,
   "metadata": {},
   "outputs": [],
   "source": []
  }
 ],
 "metadata": {
  "kernelspec": {
   "display_name": "mlagents3",
   "language": "python",
   "name": "python3"
  },
  "language_info": {
   "codemirror_mode": {
    "name": "ipython",
    "version": 3
   },
   "file_extension": ".py",
   "mimetype": "text/x-python",
   "name": "python",
   "nbconvert_exporter": "python",
   "pygments_lexer": "ipython3",
   "version": "3.10.12"
  }
 },
 "nbformat": 4,
 "nbformat_minor": 2
}
